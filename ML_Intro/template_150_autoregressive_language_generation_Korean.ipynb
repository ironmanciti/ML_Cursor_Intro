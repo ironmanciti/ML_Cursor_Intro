{
 "cells": [
  {
   "cell_type": "markdown",
   "id": "ae55c84f",
   "metadata": {
    "id": "ae55c84f"
   },
   "source": [
    "# Autoregressive (자동회귀) 문장 생성 - HyperClova 모델\n",
    "\n",
    "HyperClova 모델을 사용한 자동 회귀적인 텍스트 생성 예제입니다.\n",
    "HyperClova는 네이버에서 개발한 한국어 특화 대화형 언어모델로,\n",
    "채팅 템플릿을 사용하여 자연스러운 대화형 텍스트를 생성합니다."
   ]
  },
  {
   "cell_type": "code",
   "execution_count": null,
   "id": "de53a0bc",
   "metadata": {},
   "outputs": [],
   "source": [
    "# HyperClova 모델 및 토크나이저 초기화\n",
    "# HyperClova는 네이버에서 개발한 한국어 특화 대화형 언어모델\n",
    "# 문장 시작 부분 (한국어로 변경)\n",
    "# 토크나이저 정보 확인\n",
    "# 간단한 토큰화 테스트"
   ]
  },
  {
   "cell_type": "code",
   "execution_count": null,
   "id": "c4c65842",
   "metadata": {},
   "outputs": [],
   "source": [
    "# HyperClova 채팅 템플릿을 사용한 문장 생성\n",
    "# HyperClova는 채팅 형식의 템플릿을 사용하여 대화형 텍스트 생성\n",
    "# 채팅 형식으로 입력 구성\n",
    "# 채팅 템플릿 적용\n",
    "# GPU 사용 가능하면 GPU로 이동"
   ]
  },
  {
   "cell_type": "code",
   "execution_count": null,
   "id": "a56b3689",
   "metadata": {},
   "outputs": [],
   "source": [
    "# HyperClova 텍스트 생성\n",
    "# generate 메서드의 주요 파라미터들:\n",
    "# - max_length: 생성할 최대 토큰 수\n",
    "# - stop_strings: 생성 중단 문자열들\n",
    "# - repetition_penalty: 반복 방지 페널티 (1.0 이상 권장)\n",
    "# - temperature: 생성 다양성 조절 (기본값 사용)\n",
    "# 결과 출력\n",
    "# 원본 입력과 새로 생성된 부분 분리"
   ]
  },
  {
   "cell_type": "markdown",
   "id": "c10e2ff5",
   "metadata": {
    "id": "c10e2ff5"
   },
   "source": [
    "HyperClova는 자체적으로 autoregressive 모델입니다. \"Autoregressive\"란, 이전에 생성된 토큰들을 기반으로 다음 토큰을 생성하는 모델을 의미합니다.\n",
    "\n",
    "위의 코드에서 `model.generate` 메서드는 이미 autoregressive한 방식으로 문장을 생성합니다. 그러나 이를 명시적으로 보여주기 위해 각 단계에서 토큰을 하나씩 생성하는 autoregressive한 코드를 아래에 작성하겠습니다:\n",
    "\n",
    "## 다양한 한국어 프롬프트로 실험해보기\n",
    "\n",
    "다음 셀에서 다양한 한국어 프롬프트로 텍스트 생성을 시도해볼 수 있습니다:"
   ]
  },
  {
   "cell_type": "code",
   "execution_count": null,
   "id": "eb138e3e",
   "metadata": {},
   "outputs": [],
   "source": [
    "# 다양한 한국어 프롬프트로 텍스트 생성 실험\n",
    "    # 채팅 형식으로 구성\n",
    "    # 템플릿 적용\n",
    "    # GPU 사용 가능하면 GPU로 이동\n",
    "    # 텍스트 생성\n",
    "    # 결과 출력"
   ]
  },
  {
   "cell_type": "code",
   "execution_count": null,
   "id": "3d5aef95",
   "metadata": {},
   "outputs": [],
   "source": [
    "# HyperClova Autoregressive 생성 과정 분석\n",
    "# 채팅 템플릿을 사용한 입력 구성\n",
    "# 템플릿 적용"
   ]
  },
  {
   "cell_type": "code",
   "execution_count": null,
   "id": "f3717dbc",
   "metadata": {},
   "outputs": [],
   "source": [
    "# HyperClova Autoregressive한 방식으로 문장 생성\n",
    "# 각 단계에서 이전 토큰들을 기반으로 다음 토큰을 예측하는 과정을 시각화\n",
    "# 현재 입력 토큰 수 확인\n",
    "# 원본 입력 길이 저장 (assistant 응답 부분만 추출하기 위해)\n",
    "    # 다음 토큰 예측\n",
    "    # 생성된 토큰을 입력 토큰 뒤에 추가 (같은 장치에 맞춤)\n",
    "    # assistant가 생성한 부분만 추출\n",
    "    # 너무 길어지면 중단"
   ]
  }
 ],
 "metadata": {
  "accelerator": "GPU",
  "colab": {
   "gpuType": "T4",
   "provenance": []
  },
  "kernelspec": {
   "display_name": "Python 3",
   "name": "python3"
  },
  "language_info": {
   "codemirror_mode": {
    "name": "ipython",
    "version": 3
   },
   "file_extension": ".py",
   "mimetype": "text/x-python",
   "name": "python",
   "nbconvert_exporter": "python",
   "pygments_lexer": "ipython3",
   "version": "3.9.16"
  }
 },
 "nbformat": 4,
 "nbformat_minor": 5
}
