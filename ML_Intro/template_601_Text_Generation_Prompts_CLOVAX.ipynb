{
 "cells": [
  {
   "cell_type": "markdown",
   "id": "f609bd0c-79ec-4ce3-bfb0-4d17006a51e6",
   "metadata": {
    "id": "f609bd0c-79ec-4ce3-bfb0-4d17006a51e6"
   },
   "source": [
    "# Text 생성 및 Prompt 예제\n",
    "\n",
    "HyperCLOVAX‑SEED‑Text‑Instruct‑1.5B는 지시문 기반 텍스트-투-텍스트 모델로, 한국어 언어 및 문화 이해에 뛰어난 성능을 보입니다. 유사한 규모의 외부 경쟁 모델과 비교했을 때 수학적 성능이 향상되고, 한국어 능력이 크게 개선되었습니다. 이 모델은 HyperCLOVAX 시리즈에서 현재 출시된 모델 중 가장 작은 모델이며, 에지 디바이스와 같은 리소스가 제한된 환경에 적합한 경량 솔루션입니다. 최대 4K 토큰의 컨텍스트 길이를 지원하며, 다양한 작업에 적용 가능한 다목적 소형 모델입니다.\n",
    "\n",
    "## 🔐 보안 설정 가이드\n",
    "\n",
    "### 1. Hugging Face 토큰 생성\n",
    "- https://huggingface.co/settings/tokens 에서 **Read 권한**의 토큰을 생성하세요.\n",
    "\n",
    "### 2. 모델 접근 권한 요청\n",
    "- 모델 페이지: https://huggingface.co/naver-hyperclovax/HyperCLOVAX-SEED-Text-Instruct-1.5B\n",
    "- **\"Access repository\"** 버튼을 클릭해서 권한 요청\n",
    "\n",
    "### 3. 토큰 사용 방법\n",
    "\n",
    "**방법 2: 런타임 입력**\n",
    "- 노트북 실행 시 토큰을 직접 입력 (코드에 하드코딩하지 않음)\n"
   ]
  },
  {
   "cell_type": "code",
   "execution_count": null,
   "id": "ab2f7c30",
   "metadata": {},
   "outputs": [],
   "source": [
    "def get_huggingface_token():\n",
    "    # 1. 환경변수에서 토큰 확인\n",
    "    # 2. Colab 환경에서 secret 사용 (Colab에서만 작동)\n",
    "    # 3. 사용자 직접 입력 (화면에 표시되지 않음)\n",
    "def safe_login():\n",
    "# 안전한 로그인 실행"
   ]
  },
  {
   "cell_type": "code",
   "execution_count": null,
   "id": "31d47cbc",
   "metadata": {},
   "outputs": [],
   "source": [
    "# 로그인 성공 여부 확인\n",
    "    # GPU 사용 가능 여부 확인\n",
    "    # 모델과 토크나이저 로딩"
   ]
  },
  {
   "cell_type": "code",
   "execution_count": null,
   "id": "5414318c",
   "metadata": {},
   "outputs": [],
   "source": [
    "def clean_model_output(text):\n",
    "    # tool_list, system, user 부분 제거\n",
    "def generate_response(system_content, user_content, max_length=1024, repetition_penalty=1.2, clean_output=True, show_prompt=False):\n",
    "        # 모델이 로드되었는지 확인\n",
    "        # 프롬프트 표시 (디버깅용)\n",
    "        # 디바이스 설정\n",
    "        # 필요시 <|endofturn|>, <|stop|> 등에서 자르기\n",
    "        # 출력 정리 (선택사항)"
   ]
  },
  {
   "cell_type": "markdown",
   "id": "6e00626d-ca14-411b-898f-856309a98b6d",
   "metadata": {
    "id": "6e00626d-ca14-411b-898f-856309a98b6d"
   },
   "source": [
    "## 문법 수정\n",
    "\n",
    "SYSTEM : 당신은 문장을 받게 될 것이며, 당신의 임무는 그것을 표준 한국어로 변환하는 것입니다.  \n",
    "USER :   \n",
    "안갔어 시장에 그녀는."
   ]
  },
  {
   "cell_type": "code",
   "execution_count": null,
   "id": "77b2d933",
   "metadata": {},
   "outputs": [],
   "source": [
    "# 문법 수정 예시"
   ]
  },
  {
   "cell_type": "markdown",
   "id": "54f4415f-60b6-4308-aaf1-9f46dc634445",
   "metadata": {
    "id": "54f4415f-60b6-4308-aaf1-9f46dc634445"
   },
   "source": [
    "## 구조화되지 않은 데이터의 구문 분석\n",
    "SYSTEM : 구조화되지 않은 데이터가 제공되며 이를 CSV 형식으로 구문 분석하는 작업이 수행됩니다.  \n",
    "USER :   \n",
    "최근 발견된 행성 구크럭스(Goocrux)에서는 많은 과일이 발견됐다. 그곳에서 자라는 네오스키즐이 있는데, 보라색이고 사탕 맛이 납니다. 회색 빛이 도는 파란색 과일이고 매우 시큼하며 레몬과 약간 비슷한 로헤클(loheckles)도 있습니다. 포유닛은 밝은 녹색을 띠며 단맛보다 풍미가 더 좋습니다. 네온 핑크색 맛과 솜사탕 같은 맛이 나는 루프노바도 많이 있습니다. 마지막으로 글로울(glowls)이라는 과일이 있는데, 이 과일은 신맛과 부식성이 있는 매우 신맛과 쓴맛이 나며 옅은 오렌지색을 띠고 있습니다."
   ]
  },
  {
   "cell_type": "code",
   "execution_count": null,
   "id": "52953dc7",
   "metadata": {},
   "outputs": [],
   "source": []
  },
  {
   "cell_type": "markdown",
   "id": "981ba846-9805-40fb-8710-a370d3d3ebd5",
   "metadata": {
    "id": "981ba846-9805-40fb-8710-a370d3d3ebd5"
   },
   "source": [
    "## 대화 상태를 수동으로 관리\n",
    "\n",
    "| 역할       | 설명                                                                                      |\n",
    "|------------|-------------------------------------------------------------------------------------------|\n",
    "| developer  | 애플리케이션 개발자가 제공한 지침. **user 메시지보다 우선적으로 처리**됩니다.              |\n",
    "| user       | 최종 사용자가 입력한 지침. developer 메시지보다 **우선순위가 낮습니다.**                  |\n",
    "| assistant  | 모델이 생성한 응답 메시지. 응답 결과는 이 역할로 반환됩니다.                              |\n"
   ]
  },
  {
   "cell_type": "code",
   "execution_count": null,
   "id": "810324d7",
   "metadata": {},
   "outputs": [],
   "source": [
    "# 대화 히스토리를 하나의 시스템 메시지로 만들기"
   ]
  },
  {
   "cell_type": "markdown",
   "id": "05e0d9c0-12f4-4ed8-aaf8-a704505fcb98",
   "metadata": {
    "id": "05e0d9c0-12f4-4ed8-aaf8-a704505fcb98"
   },
   "source": [
    "## Keyword 추출"
   ]
  },
  {
   "cell_type": "code",
   "execution_count": null,
   "id": "6097e3b9",
   "metadata": {},
   "outputs": [],
   "source": []
  },
  {
   "cell_type": "markdown",
   "id": "23c706ef-9a0c-4fe7-971e-d0d23b9c7e45",
   "metadata": {
    "id": "23c706ef-9a0c-4fe7-971e-d0d23b9c7e45"
   },
   "source": [
    "## Python 버그 수정\n",
    "\n"
   ]
  },
  {
   "cell_type": "code",
   "execution_count": null,
   "id": "4dbb8cc4",
   "metadata": {},
   "outputs": [],
   "source": []
  },
  {
   "cell_type": "markdown",
   "id": "471099c0-0e56-48f8-97d4-ce7460d27184",
   "metadata": {
    "id": "471099c0-0e56-48f8-97d4-ce7460d27184"
   },
   "source": [
    "## Program Code 설명"
   ]
  },
  {
   "cell_type": "code",
   "execution_count": null,
   "id": "3cbc1b71",
   "metadata": {},
   "outputs": [],
   "source": [
    "class Log:\n",
    "    def __init__(self, path):\n",
    "        # Check that the file is newline-terminated\n",
    "    def log(self, event):\n",
    "    def state(self):"
   ]
  },
  {
   "cell_type": "markdown",
   "id": "a1934098-ba94-4cce-a64b-0a46566f67c2",
   "metadata": {
    "id": "a1934098-ba94-4cce-a64b-0a46566f67c2"
   },
   "source": [
    "## 감성 분류기\n",
    "- 한개의 text 감성 분석"
   ]
  },
  {
   "cell_type": "code",
   "execution_count": null,
   "id": "2f9edb12",
   "metadata": {},
   "outputs": [],
   "source": []
  },
  {
   "cell_type": "markdown",
   "id": "4f659121-d028-4f51-a30c-c192404f96f8",
   "metadata": {
    "id": "4f659121-d028-4f51-a30c-c192404f96f8"
   },
   "source": [
    "- 여러개의 text 감성 분석"
   ]
  },
  {
   "cell_type": "code",
   "execution_count": null,
   "id": "3bbc0d09",
   "metadata": {},
   "outputs": [],
   "source": [
    "    # 감정 분석 결과 저장\n",
    "# 결과 출력"
   ]
  },
  {
   "cell_type": "markdown",
   "id": "55aee066-e4e5-4e29-894e-8519710a44c5",
   "metadata": {
    "id": "55aee066-e4e5-4e29-894e-8519710a44c5"
   },
   "source": [
    "## 회의록 요약\n",
    "\n",
    "SYSTEM : 회의록이 제공되며 귀하의 임무는 다음과 같이 회의를 요약하는 것입니다.  \n",
    "\n",
    " -토론의 전반적인 요약  \n",
    " -행동항목(무엇을 해야 하는지, 누가 하는지)  \n",
    " -해당하는 경우 다음 회의에서 더 자세히 논의해야 할 주제 목록입니다.  "
   ]
  },
  {
   "cell_type": "code",
   "execution_count": null,
   "id": "af349246",
   "metadata": {},
   "outputs": [],
   "source": []
  },
  {
   "cell_type": "markdown",
   "id": "0e064629-07fc-4c86-bcf8-05d1bcdcb6da",
   "metadata": {
    "id": "0e064629-07fc-4c86-bcf8-05d1bcdcb6da"
   },
   "source": [
    "## 이모티콘 번역\n",
    "SYSTEM : 텍스트가 제공되며, 귀하의 임무는 이를 이모티콘으로 번역하는 것입니다. 일반 텍스트를 사용하지 마십시오. 이모티콘만으로 최선을 다하세요.  \n",
    "USER : 인공지능은 큰 가능성을 지닌 기술이다."
   ]
  },
  {
   "cell_type": "code",
   "execution_count": null,
   "id": "42f750bb",
   "metadata": {},
   "outputs": [],
   "source": []
  },
  {
   "cell_type": "markdown",
   "id": "22cd2c83-3e39-456a-a45d-56ca3fcf3bd5",
   "metadata": {
    "id": "22cd2c83-3e39-456a-a45d-56ca3fcf3bd5"
   },
   "source": [
    "## 번역"
   ]
  },
  {
   "cell_type": "code",
   "execution_count": null,
   "id": "f90f4c99",
   "metadata": {},
   "outputs": [],
   "source": []
  },
  {
   "cell_type": "code",
   "execution_count": null,
   "id": "598ab485",
   "metadata": {},
   "outputs": [],
   "source": [
    "# 실습 과제"
   ]
  },
  {
   "cell_type": "markdown",
   "id": "47062606-7e80-4332-9bbc-f48681169d83",
   "metadata": {
    "id": "47062606-7e80-4332-9bbc-f48681169d83"
   },
   "source": [
    "## 실습: 위의 Prompt 내용을 수정해 가며 api 실행"
   ]
  },
  {
   "cell_type": "code",
   "execution_count": null,
   "id": "2d26efec",
   "metadata": {},
   "outputs": [],
   "source": []
  }
 ],
 "metadata": {
  "accelerator": "GPU",
  "colab": {
   "gpuType": "T4",
   "provenance": []
  },
  "kernelspec": {
   "display_name": "Python 3 (ipykernel)",
   "language": "python",
   "name": "python3"
  },
  "language_info": {
   "codemirror_mode": {
    "name": "ipython",
    "version": 3
   },
   "file_extension": ".py",
   "mimetype": "text/x-python",
   "name": "python",
   "nbconvert_exporter": "python",
   "pygments_lexer": "ipython3",
   "version": "3.11.13"
  }
 },
 "nbformat": 4,
 "nbformat_minor": 5
}
