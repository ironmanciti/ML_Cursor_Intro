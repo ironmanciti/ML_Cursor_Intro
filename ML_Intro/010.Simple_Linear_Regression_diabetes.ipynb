{
 "cells": [
  {
   "cell_type": "markdown",
   "metadata": {
    "slideshow": {
     "slide_type": "slide"
    }
   },
   "source": [
    "# 단순 선형회귀 분석 - 캘리포니아 주택가격 데이터셋\n",
    "\n",
    "## 학습 목표\n",
    "- 단순 선형회귀의 개념과 원리 이해\n",
    "- 단변수, 다변수, 전체 특성을 사용한 선형회귀 모델 비교\n",
    "- 모델 성능 평가 지표 (R², MSE) 이해\n",
    "- 데이터 시각화를 통한 회귀 분석 결과 해석\n",
    "\n",
    "## 데이터셋 소개\n",
    "**캘리포니아 주택가격 데이터셋 (California Housing Dataset)**\n",
    "- **목표**: 캘리포니아 지역의 주택가격 예측\n",
    "- **특성 수**: 8개 (MedInc, HouseAge, AveRooms, AveBedrms, Population, AveOccup, Latitude, Longitude)\n",
    "- **샘플 수**: 20,640개\n",
    "- **목표 변수**: 주택가격 (단위: $100,000)\n",
    "\n",
    "이 노트북에서는 다음과 같은 분석을 수행합니다:\n",
    "1. **단변수 선형회귀**: MedInc(중간 소득) → 주택가격\n",
    "2. **다변수 선형회귀**: MedInc + AveRooms → 주택가격  \n",
    "3. **전체 특성 선형회귀**: 모든 8개 특성 → 주택가격"
   ]
  },
  {
   "cell_type": "code",
   "execution_count": 1,
   "metadata": {
    "slideshow": {
     "slide_type": "subslide"
    }
   },
   "outputs": [],
   "source": [
    "# 필요한 라이브러리 import\n",
    "import matplotlib.pyplot as plt\n",
    "import numpy as np\n",
    "from sklearn import datasets, linear_model\n",
    "from sklearn.metrics import mean_squared_error, r2_score\n",
    "from sklearn.model_selection import train_test_split  # 개선된 데이터 분할을 위해 추가\n",
    "from sklearn.preprocessing import MinMaxScaler  # 데이터 정규화를 위해 추가\n",
    "import pandas as pd\n",
    "\n",
    "# Windows에서 한글 폰트 설정 (필요시 주석 해제)\n",
    "import matplotlib.font_manager as fm\n",
    "font_list = [font.name for font in fm.fontManager.ttflist]\n",
    "if 'Malgun Gothic' in font_list:\n",
    "    plt.rcParams['font.family'] = 'Malgun Gothic'\n",
    "elif 'NanumGothic' in font_list:\n",
    "    plt.rcParams['font.family'] = 'NanumGothic'\n",
    "\n",
    "plt.rcParams['axes.unicode_minus'] = False  # 마이너스 기호 깨짐 방지\n",
    "\n",
    "# 시각화 설정\n",
    "%matplotlib inline\n",
    "plt.rcParams['figure.figsize'] = (10, 6)"
   ]
  },
  {
   "cell_type": "markdown",
   "metadata": {
    "slideshow": {
     "slide_type": "subslide"
    }
   },
   "source": [
    "## 1. 데이터 로드 및 탐색"
   ]
  },
  {
   "cell_type": "code",
   "execution_count": 2,
   "metadata": {
    "slideshow": {
     "slide_type": "subslide"
    }
   },
   "outputs": [
    {
     "name": "stdout",
     "output_type": "stream",
     "text": [
      "특성 이름:\n",
      "['MedInc', 'HouseAge', 'AveRooms', 'AveBedrms', 'Population', 'AveOccup', 'Latitude', 'Longitude']\n",
      "\n",
      "데이터 형태: (20640, 8)\n",
      "목표 변수 형태: (20640,)\n",
      "\n",
      "특성 설명:\n",
      "  0: MedInc\n",
      "  1: HouseAge\n",
      "  2: AveRooms\n",
      "  3: AveBedrms\n",
      "  4: Population\n",
      "  5: AveOccup\n",
      "  6: Latitude\n",
      "  7: Longitude\n"
     ]
    }
   ],
   "source": [
    "# California Housing 데이터셋 로드\n",
    "# 주택 가격 예측을 위한 데이터 (특성 간 상관관계가 다양함)\n",
    "housing = datasets.fetch_california_housing()\n",
    "\n",
    "print(\"특성 이름:\")\n",
    "print(housing.feature_names)\n",
    "print(f\"\\n데이터 형태: {housing.data.shape}\")\n",
    "print(f\"목표 변수 형태: {housing.target.shape}\")\n",
    "print(f\"\\n특성 설명:\")\n",
    "for i, name in enumerate(housing.feature_names):\n",
    "    print(f\"  {i}: {name}\")"
   ]
  },
  {
   "cell_type": "markdown",
   "metadata": {},
   "source": [
    "### 데이터셋 기본 정보"
   ]
  },
  {
   "cell_type": "code",
   "execution_count": 3,
   "metadata": {
    "slideshow": {
     "slide_type": "subslide"
    }
   },
   "outputs": [
    {
     "name": "stdout",
     "output_type": "stream",
     "text": [
      "DataFrame 형태:\n",
      "   MedInc  HouseAge  AveRooms  AveBedrms  Population  AveOccup  Latitude  \\\n",
      "0  8.3252      41.0  6.984127   1.023810       322.0  2.555556     37.88   \n",
      "1  8.3014      21.0  6.238137   0.971880      2401.0  2.109842     37.86   \n",
      "2  7.2574      52.0  8.288136   1.073446       496.0  2.802260     37.85   \n",
      "3  5.6431      52.0  5.817352   1.073059       558.0  2.547945     37.85   \n",
      "4  3.8462      52.0  6.281853   1.081081       565.0  2.181467     37.85   \n",
      "\n",
      "   Longitude  target  \n",
      "0    -122.23   4.526  \n",
      "1    -122.22   3.585  \n",
      "2    -122.24   3.521  \n",
      "3    -122.25   3.413  \n",
      "4    -122.25   3.422  \n",
      "\n",
      "DataFrame 정보:\n",
      "<class 'pandas.core.frame.DataFrame'>\n",
      "RangeIndex: 20640 entries, 0 to 20639\n",
      "Data columns (total 9 columns):\n",
      " #   Column      Non-Null Count  Dtype  \n",
      "---  ------      --------------  -----  \n",
      " 0   MedInc      20640 non-null  float64\n",
      " 1   HouseAge    20640 non-null  float64\n",
      " 2   AveRooms    20640 non-null  float64\n",
      " 3   AveBedrms   20640 non-null  float64\n",
      " 4   Population  20640 non-null  float64\n",
      " 5   AveOccup    20640 non-null  float64\n",
      " 6   Latitude    20640 non-null  float64\n",
      " 7   Longitude   20640 non-null  float64\n",
      " 8   target      20640 non-null  float64\n",
      "dtypes: float64(9)\n",
      "memory usage: 1.4 MB\n",
      "None\n"
     ]
    }
   ],
   "source": [
    "# DataFrame으로 변환하여 데이터 탐색\n",
    "df_housing = pd.DataFrame(data=housing.data, columns=housing.feature_names)\n",
    "df_housing['target'] = housing.target  # 목표 변수도 추가\n",
    "\n",
    "print(\"DataFrame 형태:\")\n",
    "print(df_housing.head())\n",
    "print(f\"\\nDataFrame 정보:\")\n",
    "print(df_housing.info())"
   ]
  },
  {
   "cell_type": "markdown",
   "metadata": {
    "slideshow": {
     "slide_type": "subslide"
    }
   },
   "source": [
    "### 데이터셋 상세 정보"
   ]
  },
  {
   "cell_type": "code",
   "execution_count": 4,
   "metadata": {
    "slideshow": {
     "slide_type": "subslide"
    }
   },
   "outputs": [
    {
     "name": "stdout",
     "output_type": "stream",
     "text": [
      "MedInc 데이터 형태: (20640, 1)\n",
      "목표 변수 형태: (20640,)\n",
      "MedInc 범위: $0.50 ~ $15.00\n",
      "MedInc 평균: $3.87\n"
     ]
    }
   ],
   "source": [
    "# MedInc(중간 소득) 특성만 사용하여 단변수 선형회귀 데이터 준비\n",
    "# reshape(-1, 1): 1차원 배열을 2차원으로 변환 (sklearn 요구사항)\n",
    "X_medinc = df_housing['MedInc'].values.reshape(-1, 1)\n",
    "y = housing.target\n",
    "\n",
    "print(f\"MedInc 데이터 형태: {X_medinc.shape}\")\n",
    "print(f\"목표 변수 형태: {y.shape}\")\n",
    "print(f\"MedInc 범위: ${X_medinc.min():.2f} ~ ${X_medinc.max():.2f}\")\n",
    "print(f\"MedInc 평균: ${X_medinc.mean():.2f}\")"
   ]
  },
  {
   "cell_type": "markdown",
   "metadata": {},
   "source": [
    "### 데이터 분할"
   ]
  },
  {
   "cell_type": "code",
   "execution_count": 5,
   "metadata": {
    "slideshow": {
     "slide_type": "subslide"
    }
   },
   "outputs": [
    {
     "name": "stdout",
     "output_type": "stream",
     "text": [
      "훈련 데이터 크기: (16512, 1)\n",
      "테스트 데이터 크기: (4128, 1)\n",
      "정규화 전 MedInc 범위: 0.50 ~ 15.00\n",
      "정규화 후 MedInc 범위: 0.00 ~ 1.00\n"
     ]
    }
   ],
   "source": [
    "# 개선된 데이터 분할 방법 사용\n",
    "# train_test_split을 사용하여 더 체계적으로 데이터 분할\n",
    "X_train, X_test, y_train, y_test = train_test_split(\n",
    "    X_medinc, y, test_size=0.2, random_state=42\n",
    ")\n",
    "\n",
    "# MinMaxScaler를 사용한 데이터 정규화\n",
    "scaler_single = MinMaxScaler()\n",
    "X_train_scaled = scaler_single.fit_transform(X_train)\n",
    "X_test_scaled = scaler_single.transform(X_test)\n",
    "\n",
    "print(f\"훈련 데이터 크기: {X_train.shape}\")\n",
    "print(f\"테스트 데이터 크기: {X_test.shape}\")\n",
    "print(f\"정규화 전 MedInc 범위: {X_train.min():.2f} ~ {X_train.max():.2f}\")\n",
    "print(f\"정규화 후 MedInc 범위: {X_train_scaled.min():.2f} ~ {X_train_scaled.max():.2f}\")"
   ]
  },
  {
   "cell_type": "code",
   "execution_count": 6,
   "metadata": {
    "slideshow": {
     "slide_type": "subslide"
    }
   },
   "outputs": [
    {
     "name": "stdout",
     "output_type": "stream",
     "text": [
      "모델 훈련 완료!\n",
      "회귀 계수 (기울기): 6.08\n",
      "절편: 0.65\n",
      "\n",
      "회귀식: 주택가격 = 6.08 * MedInc(정규화) + 0.65\n",
      "해석: 정규화된 중간 소득이 1단위 증가하면 주택가격이 6.08만 달러 증가\n"
     ]
    }
   ],
   "source": [
    "# 선형회귀 모델 생성 및 훈련 (정규화된 데이터 사용)\n",
    "regr = linear_model.LinearRegression()\n",
    "\n",
    "# 정규화된 훈련 데이터로 모델 학습\n",
    "regr.fit(X_train_scaled, y_train)\n",
    "\n",
    "print(\"모델 훈련 완료!\")\n",
    "print(f\"회귀 계수 (기울기): {regr.coef_[0]:.2f}\")\n",
    "print(f\"절편: {regr.intercept_:.2f}\")\n",
    "print(f\"\\n회귀식: 주택가격 = {regr.coef_[0]:.2f} * MedInc(정규화) + {regr.intercept_:.2f}\")\n",
    "print(f\"해석: 정규화된 중간 소득이 1단위 증가하면 주택가격이 {regr.coef_[0]:.2f}만 달러 증가\")"
   ]
  },
  {
   "cell_type": "code",
   "execution_count": 7,
   "metadata": {
    "slideshow": {
     "slide_type": "subslide"
    }
   },
   "outputs": [
    {
     "name": "stdout",
     "output_type": "stream",
     "text": [
      "==================================================\n",
      "단변수 선형회귀 모델 성능 평가 (정규화 적용)\n",
      "==================================================\n",
      "평균 제곱 오차 (MSE): 0.71\n",
      "결정계수 (R²): 0.46\n",
      "\n",
      "해석:\n",
      "- R² = 0.46는 MedInc가 주택가격의 46%를 설명함\n",
      "- 나머지 54%는 다른 요인들에 의해 결정됨\n",
      "- MSE = 0.71는 예측값과 실제값의 평균 제곱 차이\n",
      "- RMSE = 0.84 (평균 예측 오차)\n"
     ]
    }
   ],
   "source": [
    "# 모델 예측 및 성능 평가 (정규화된 테스트 데이터 사용)\n",
    "y_pred = regr.predict(X_test_scaled)\n",
    "\n",
    "# 모델 성능 평가\n",
    "mse = mean_squared_error(y_test, y_pred)\n",
    "r2 = r2_score(y_test, y_pred)\n",
    "\n",
    "print(\"=\"*50)\n",
    "print(\"단변수 선형회귀 모델 성능 평가 (정규화 적용)\")\n",
    "print(\"=\"*50)\n",
    "print(f\"평균 제곱 오차 (MSE): {mse:.2f}\")\n",
    "print(f\"결정계수 (R²): {r2:.2f}\")\n",
    "print(f\"\\n해석:\")\n",
    "print(f\"- R² = {r2:.2f}는 MedInc가 주택가격의 {r2*100:.0f}%를 설명함\")\n",
    "print(f\"- 나머지 {(1-r2)*100:.0f}%는 다른 요인들에 의해 결정됨\")\n",
    "print(f\"- MSE = {mse:.2f}는 예측값과 실제값의 평균 제곱 차이\")\n",
    "print(f\"- RMSE = {np.sqrt(mse):.2f} (평균 예측 오차)\")"
   ]
  },
  {
   "cell_type": "markdown",
   "metadata": {
    "slideshow": {
     "slide_type": "subslide"
    }
   },
   "source": [
    "## 전체 특성 선형회귀 (모든 특성 → 주택가격)"
   ]
  },
  {
   "cell_type": "markdown",
   "metadata": {},
   "source": [
    "### 전체 특성 데이터 분할"
   ]
  },
  {
   "cell_type": "code",
   "execution_count": 8,
   "metadata": {},
   "outputs": [
    {
     "name": "stdout",
     "output_type": "stream",
     "text": [
      "전체 특성 데이터 형태: (20640, 8)\n",
      "사용된 특성: ['MedInc', 'HouseAge', 'AveRooms', 'AveBedrms', 'Population', 'AveOccup', 'Latitude', 'Longitude']\n",
      "특성 수: 8개\n"
     ]
    }
   ],
   "source": [
    "# 전체 특성을 사용한 선형회귀 데이터 준비\n",
    "X_all = df_housing.drop('target', axis=1).values  # target 컬럼 제외한 모든 특성\n",
    "y = housing.target\n",
    "\n",
    "print(f\"전체 특성 데이터 형태: {X_all.shape}\")\n",
    "print(f\"사용된 특성: {list(df_housing.columns[:-1])}\")  # target 제외\n",
    "print(f\"특성 수: {X_all.shape[1]}개\")"
   ]
  },
  {
   "cell_type": "code",
   "execution_count": 9,
   "metadata": {
    "slideshow": {
     "slide_type": "slide"
    }
   },
   "outputs": [
    {
     "name": "stdout",
     "output_type": "stream",
     "text": [
      "훈련 데이터 크기: (16512, 8), (16512,)\n",
      "테스트 데이터 크기: (4128, 8), (4128,)\n",
      "정규화 전 범위: -124.35 ~ 35682.00\n",
      "정규화 후 범위: 0.00 ~ 1.00\n"
     ]
    }
   ],
   "source": [
    "# 전체 특성 선형회귀를 위한 데이터 분할\n",
    "X_train_all, X_test_all, y_train_all, y_test_all = train_test_split(\n",
    "    X_all, y, test_size=0.2, random_state=42\n",
    ")\n",
    "\n",
    "# MinMaxScaler를 사용한 전체 특성 데이터 정규화\n",
    "scaler_all = MinMaxScaler()\n",
    "X_train_all_scaled = scaler_all.fit_transform(X_train_all)\n",
    "X_test_all_scaled = scaler_all.transform(X_test_all)\n",
    "\n",
    "print(f\"훈련 데이터 크기: {X_train_all.shape}, {y_train_all.shape}\")\n",
    "print(f\"테스트 데이터 크기: {X_test_all.shape}, {y_test_all.shape}\")\n",
    "print(f\"정규화 전 범위: {X_train_all.min():.2f} ~ {X_train_all.max():.2f}\")\n",
    "print(f\"정규화 후 범위: {X_train_all_scaled.min():.2f} ~ {X_train_all_scaled.max():.2f}\")"
   ]
  },
  {
   "cell_type": "code",
   "execution_count": 10,
   "metadata": {
    "slideshow": {
     "slide_type": "subslide"
    }
   },
   "outputs": [
    {
     "name": "stdout",
     "output_type": "stream",
     "text": [
      "전체 특성 선형회귀 모델 훈련 완료!\n",
      "회귀계수: [  6.50587593   0.49593713 -17.39108272  19.81593931  -0.07241483\n",
      "  -4.38194802  -3.94604937  -4.35442897]\n",
      "절편: 3.63\n",
      "사용된 특성 수: 8개 (정규화 적용)\n",
      "특성명: ['MedInc', 'HouseAge', 'AveRooms', 'AveBedrms', 'Population', 'AveOccup', 'Latitude', 'Longitude']\n"
     ]
    }
   ],
   "source": [
    "# 전체 특성 선형회귀 모델 훈련 (정규화된 데이터 사용)\n",
    "regr_all = linear_model.LinearRegression()\n",
    "regr_all.fit(X_train_all_scaled, y_train_all)\n",
    "\n",
    "print(\"전체 특성 선형회귀 모델 훈련 완료!\")\n",
    "print(f\"회귀계수: {regr_all.coef_}\")\n",
    "print(f\"절편: {regr_all.intercept_:.2f}\")\n",
    "print(f\"사용된 특성 수: {len(regr_all.coef_)}개 (정규화 적용)\")\n",
    "print(f\"특성명: {list(df_housing.columns[:-1])}\")  # target 제외"
   ]
  },
  {
   "cell_type": "code",
   "execution_count": 12,
   "metadata": {
    "slideshow": {
     "slide_type": "subslide"
    }
   },
   "outputs": [
    {
     "name": "stdout",
     "output_type": "stream",
     "text": [
      "==================================================\n",
      "전체 특성 선형회귀 모델 성능 평가 (정규화 적용)\n",
      "==================================================\n",
      "평균 제곱 오차 (MSE): 0.56\n",
      "결정계수 (R²): 0.58\n",
      "\n",
      "해석:\n",
      "- R² = 0.58는 모든 특성이 주택가격의 58%를 설명함\n",
      "- 단변수 모델 대비 성능 향상: R² 0.46 → 0.58 (+0.12)\n"
     ]
    }
   ],
   "source": [
    "# 전체 특성 모델 예측 및 성능 평가 (정규화된 테스트 데이터 사용)\n",
    "y_pred_all = regr_all.predict(X_test_all_scaled)\n",
    "\n",
    "mse_all = mean_squared_error(y_test_all, y_pred_all)\n",
    "r2_all = r2_score(y_test_all, y_pred_all)\n",
    "\n",
    "print(\"=\"*50)\n",
    "print(\"전체 특성 선형회귀 모델 성능 평가 (정규화 적용)\")\n",
    "print(\"=\"*50)\n",
    "print(f\"평균 제곱 오차 (MSE): {mse_all:.2f}\")\n",
    "print(f\"결정계수 (R²): {r2_all:.2f}\")\n",
    "print(f\"\\n해석:\")\n",
    "print(f\"- R² = {r2_all:.2f}는 모든 특성이 주택가격의 {r2_all*100:.0f}%를 설명함\")\n",
    "print(f\"- 단변수 모델 대비 성능 향상: R² {r2:.2f} → {r2_all:.2f} ({r2_all-r2:+.2f})\")"
   ]
  },
  {
   "cell_type": "markdown",
   "metadata": {},
   "source": [
    "## 5. 모델 성능 비교 및 결과 해석"
   ]
  },
  {
   "cell_type": "code",
   "execution_count": 17,
   "metadata": {},
   "outputs": [
    {
     "name": "stdout",
     "output_type": "stream",
     "text": [
      "============================================================\n",
      "5. 학습 요약 및 결론\n",
      "============================================================\n",
      "\n",
      "📊 **실험 결과 요약**\n",
      "\n",
      "1. **단변수 선형회귀 (MedInc만 사용)**\n",
      "   - R² = 0.46 (MedInc가 주택가격의 46% 설명)\n",
      "   - MSE = 0.71\n",
      "\n",
      "2. **전체 특성 선형회귀 (8개 특성)**\n",
      "   - R² = 0.58 (모든 특성이 주택가격의 58% 설명)\n",
      "   - MSE = 0.56\n",
      "   - 단변수 대비 성능 향상: 0.12\n",
      "\n",
      "🔍 **주요 인사이트**\n",
      "- California Housing 데이터셋에서는 특성 수에 따른 성능 차이가 뚜렷함\n",
      "- MedInc(중간 소득)가 가장 중요한 예측 변수\n",
      "- 모든 특성 사용 시 가장 높은 성능 달성\n",
      "- 선형회귀는 해석이 용이하고 구현이 간단한 모델임\n",
      "\n"
     ]
    }
   ],
   "source": [
    "print(\"=\"*60)\n",
    "print(\"5. 학습 요약 및 결론\")\n",
    "print(\"=\"*60)\n",
    "\n",
    "print(\"\"\"\n",
    "📊 **실험 결과 요약**\n",
    "\n",
    "1. **단변수 선형회귀 (MedInc만 사용)**\n",
    "   - R² = {:.2f} (MedInc가 주택가격의 {:.0f}% 설명)\n",
    "   - MSE = {:.2f}\n",
    "\n",
    "2. **전체 특성 선형회귀 (8개 특성)**\n",
    "   - R² = {:.2f} (모든 특성이 주택가격의 {:.0f}% 설명)\n",
    "   - MSE = {:.2f}\n",
    "   - 단변수 대비 성능 향상: {:.2f}\n",
    "\n",
    "🔍 **주요 인사이트**\n",
    "- California Housing 데이터셋에서는 특성 수에 따른 성능 차이가 뚜렷함\n",
    "- MedInc(중간 소득)가 가장 중요한 예측 변수\n",
    "- 모든 특성 사용 시 가장 높은 성능 달성\n",
    "- 선형회귀는 해석이 용이하고 구현이 간단한 모델임\n",
    "\"\"\".format(r2, r2*100, mse, r2_all, r2_all*100, mse_all, r2_all-r2))"
   ]
  },
  {
   "cell_type": "code",
   "execution_count": null,
   "metadata": {},
   "outputs": [],
   "source": []
  }
 ],
 "metadata": {
  "kernelspec": {
   "display_name": "Python 3 (ipykernel)",
   "language": "python",
   "name": "python3"
  },
  "language_info": {
   "codemirror_mode": {
    "name": "ipython",
    "version": 3
   },
   "file_extension": ".py",
   "mimetype": "text/x-python",
   "name": "python",
   "nbconvert_exporter": "python",
   "pygments_lexer": "ipython3",
   "version": "3.9.16"
  }
 },
 "nbformat": 4,
 "nbformat_minor": 4
}
