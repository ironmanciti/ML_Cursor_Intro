{
  "cells": [
    {
      "cell_type": "markdown",
      "id": "f609bd0c-79ec-4ce3-bfb0-4d17006a51e6",
      "metadata": {
        "id": "f609bd0c-79ec-4ce3-bfb0-4d17006a51e6"
      },
      "source": [
        "# Text 생성 및 Prompt 예제\n",
        "\n",
        "HyperCLOVAX‑SEED‑Text‑Instruct‑1.5B는 지시문 기반 텍스트-투-텍스트 모델로, 한국어 언어 및 문화 이해에 뛰어난 성능을 보입니다. 유사한 규모의 외부 경쟁 모델과 비교했을 때 수학적 성능이 향상되고, 한국어 능력이 크게 개선되었습니다. 이 모델은 HyperCLOVAX 시리즈에서 현재 출시된 모델 중 가장 작은 모델이며, 에지 디바이스와 같은 리소스가 제한된 환경에 적합한 경량 솔루션입니다. 최대 4K 토큰의 컨텍스트 길이를 지원하며, 다양한 작업에 적용 가능한 다목적 소형 모델입니다.\n",
        "\n",
        "## 🔐 보안 설정 가이드\n",
        "\n",
        "### 1. Hugging Face 토큰 생성\n",
        "- https://huggingface.co/settings/tokens 에서 **Read 권한**의 토큰을 생성하세요.\n",
        "\n",
        "### 2. 모델 접근 권한 요청\n",
        "- 모델 페이지: https://huggingface.co/naver-hyperclovax/HyperCLOVAX-SEED-Text-Instruct-1.5B\n",
        "- **\"Access repository\"** 버튼을 클릭해서 권한 요청\n",
        "\n",
        "### 3. 토큰 사용 방법\n",
        "\n",
        "**방법 2: 런타임 입력**\n",
        "- 노트북 실행 시 토큰을 직접 입력 (코드에 하드코딩하지 않음)\n"
      ]
    },
    {
      "cell_type": "code",
      "execution_count": 19,
      "id": "mtjdIF7oYHg2",
      "metadata": {
        "id": "mtjdIF7oYHg2",
        "colab": {
          "base_uri": "https://localhost:8080/"
        },
        "outputId": "cff2393f-6735-471a-c07e-61faada64144"
      },
      "outputs": [
        {
          "output_type": "stream",
          "name": "stdout",
          "text": [
            "\n",
            "🔑 Hugging Face 토큰이 필요합니다.\n",
            "토큰 생성: https://huggingface.co/settings/tokens\n",
            "토큰을 입력하세요 (입력이 화면에 표시되지 않습니다): ··········\n",
            "✅ Hugging Face 로그인 성공!\n"
          ]
        }
      ],
      "source": [
        "import os\n",
        "import getpass\n",
        "from huggingface_hub import login\n",
        "\n",
        "def get_huggingface_token():\n",
        "    \"\"\"\n",
        "    Hugging Face 토큰을 안전하게 가져오는 함수\n",
        "    우선순위: 환경변수 > Colab secret > 사용자 입력\n",
        "    \"\"\"\n",
        "    # 1. 환경변수에서 토큰 확인\n",
        "    token = os.getenv('HUGGINGFACE_TOKEN')\n",
        "\n",
        "    if token:\n",
        "        print(\"✅ 환경변수에서 토큰을 찾았습니다.\")\n",
        "        return token\n",
        "\n",
        "    # 2. Colab 환경에서 secret 사용 (Colab에서만 작동)\n",
        "    try:\n",
        "        from google.colab import userdata\n",
        "        token = userdata.get('HUGGINGFACE_TOKEN')\n",
        "        if token:\n",
        "            print(\"✅ Colab secret에서 토큰을 찾았습니다.\")\n",
        "            return token\n",
        "    except:\n",
        "        pass  # Colab이 아닌 환경에서는 무시\n",
        "\n",
        "    # 3. 사용자 직접 입력 (화면에 표시되지 않음)\n",
        "    print(\"\\n🔑 Hugging Face 토큰이 필요합니다.\")\n",
        "    print(\"토큰 생성: https://huggingface.co/settings/tokens\")\n",
        "\n",
        "    token = getpass.getpass(\"토큰을 입력하세요 (입력이 화면에 표시되지 않습니다): \").strip()\n",
        "\n",
        "    if not token:\n",
        "        raise ValueError(\"토큰이 입력되지 않았습니다.\")\n",
        "\n",
        "    if not token.startswith('hf_'):\n",
        "        print(\"⚠️  토큰 형식을 확인해주세요. 'hf_'로 시작해야 합니다.\")\n",
        "\n",
        "    return token\n",
        "\n",
        "def safe_login():\n",
        "    \"\"\"\n",
        "    안전한 방식으로 Hugging Face에 로그인\n",
        "    \"\"\"\n",
        "    try:\n",
        "        token = get_huggingface_token()\n",
        "        login(token=token)\n",
        "        print(\"✅ Hugging Face 로그인 성공!\")\n",
        "        return True\n",
        "    except Exception as e:\n",
        "        print(f\"❌ 로그인 실패: {e}\")\n",
        "        print(\"토큰을 확인하고 다시 시도해주세요.\")\n",
        "        return False\n",
        "\n",
        "# 안전한 로그인 실행\n",
        "login_success = safe_login()"
      ]
    },
    {
      "cell_type": "code",
      "execution_count": 20,
      "id": "c78aaec8-fbb7-454f-b2b1-8de83b139288",
      "metadata": {
        "colab": {
          "base_uri": "https://localhost:8080/"
        },
        "id": "c78aaec8-fbb7-454f-b2b1-8de83b139288",
        "outputId": "5a6252ef-4cc4-44c6-c9c3-d943b6a46275"
      },
      "outputs": [
        {
          "output_type": "stream",
          "name": "stdout",
          "text": [
            "🔄 모델을 로딩하는 중...\n",
            "📱 사용 중인 디바이스: cuda\n",
            "✅ 모델 로딩 완료!\n",
            "📊 모델 크기: 1,585,547,264 파라미터\n"
          ]
        }
      ],
      "source": [
        "from transformers import AutoModelForCausalLM, AutoProcessor, AutoTokenizer\n",
        "import torch\n",
        "\n",
        "# 로그인 성공 여부 확인\n",
        "if 'login_success' not in locals() or not login_success:\n",
        "    print(\"❌ 로그인이 필요합니다. 먼저 위의 로그인 셀을 실행해주세요.\")\n",
        "    raise RuntimeError(\"Hugging Face 로그인이 필요합니다.\")\n",
        "\n",
        "print(\"🔄 모델을 로딩하는 중...\")\n",
        "model_name = \"naver-hyperclovax/HyperCLOVAX-SEED-Text-Instruct-1.5B\"\n",
        "\n",
        "try:\n",
        "    # GPU 사용 가능 여부 확인\n",
        "    device = \"cuda\" if torch.cuda.is_available() else \"cpu\"\n",
        "    print(f\"📱 사용 중인 디바이스: {device}\")\n",
        "\n",
        "    # 모델과 토크나이저 로딩\n",
        "    model = AutoModelForCausalLM.from_pretrained(\n",
        "        model_name,\n",
        "        device_map=\"auto\" if device == \"cuda\" else None,\n",
        "        torch_dtype=torch.float16 if device == \"cuda\" else torch.float32\n",
        "    )\n",
        "    tokenizer = AutoTokenizer.from_pretrained(model_name)\n",
        "\n",
        "    print(\"✅ 모델 로딩 완료!\")\n",
        "    print(f\"📊 모델 크기: {model.num_parameters():,} 파라미터\")\n",
        "\n",
        "except Exception as e:\n",
        "    print(f\"❌ 모델 로딩 실패: {e}\")\n",
        "    print(\"모델 접근 권한을 확인해주세요.\")\n",
        "    raise"
      ]
    },
    {
      "cell_type": "code",
      "source": [
        "def clean_model_output(text):\n",
        "    \"\"\"\n",
        "    모델 출력에서 불필요한 부분을 제거하는 함수\n",
        "    \"\"\"\n",
        "    # tool_list, system, user 부분 제거\n",
        "    lines = text.split('\\n')\n",
        "    cleaned_lines = []\n",
        "    skip_until_assistant = False\n",
        "\n",
        "    for line in lines:\n",
        "        if line.strip() == \"tool_list\":\n",
        "            skip_until_assistant = True\n",
        "            continue\n",
        "        elif line.strip() == \"system\":\n",
        "            skip_until_assistant = True\n",
        "            continue\n",
        "        elif line.strip() == \"user\":\n",
        "            skip_until_assistant = True\n",
        "            continue\n",
        "        elif line.strip() == \"assistant\":\n",
        "            skip_until_assistant = False\n",
        "            continue\n",
        "        elif not skip_until_assistant:\n",
        "            cleaned_lines.append(line)\n",
        "\n",
        "    return '\\n'.join(cleaned_lines).strip()\n",
        "\n",
        "def generate_response(system_content, user_content, max_length=1024, repetition_penalty=1.2, clean_output=True, show_prompt=False):\n",
        "    \"\"\"\n",
        "    HyperCLOVAX 모델을 사용하여 응답을 생성하는 함수\n",
        "\n",
        "    Args:\n",
        "        system_content (str): 시스템 메시지 내용\n",
        "        user_content (str): 사용자 메시지 내용\n",
        "        max_length (int): 최대 생성 길이 (기본값: 1024)\n",
        "        repetition_penalty (float): 반복 패널티 (기본값: 1.2)\n",
        "        clean_output (bool): 출력 정리 여부 (기본값: True)\n",
        "        show_prompt (bool): 프롬프트 표시 여부 (기본값: False)\n",
        "\n",
        "    Returns:\n",
        "        str: 생성된 응답 텍스트\n",
        "    \"\"\"\n",
        "    try:\n",
        "        # 모델이 로드되었는지 확인\n",
        "        if 'model' not in globals() or 'tokenizer' not in globals():\n",
        "            return \"❌ 모델이 로드되지 않았습니다. 먼저 모델 로딩 셀을 실행해주세요.\"\n",
        "\n",
        "        # 프롬프트 표시 (디버깅용)\n",
        "        if show_prompt:\n",
        "            print(\"�� 시스템 프롬프트:\", system_content)\n",
        "            print(\"📝 사용자 입력:\", user_content)\n",
        "            print(\"-\" * 50)\n",
        "\n",
        "        chat = [\n",
        "            {\"role\": \"tool_list\", \"content\": \"\"},\n",
        "            {\"role\": \"system\", \"content\": system_content},\n",
        "            {\"role\": \"user\", \"content\": user_content},\n",
        "        ]\n",
        "\n",
        "        inputs = tokenizer.apply_chat_template(chat, add_generation_prompt=True, return_dict=True, return_tensors=\"pt\")\n",
        "\n",
        "        # 디바이스 설정\n",
        "        device = \"cuda\" if torch.cuda.is_available() else \"cpu\"\n",
        "        inputs = inputs.to(device)\n",
        "\n",
        "        with torch.no_grad():\n",
        "            output_ids = model.generate(\n",
        "                **inputs,\n",
        "                max_length=max_length,\n",
        "                repetition_penalty=repetition_penalty,\n",
        "                eos_token_id=tokenizer.eos_token_id,\n",
        "                do_sample=True,\n",
        "                temperature=0.7,\n",
        "                top_p=0.9,\n",
        "                pad_token_id=tokenizer.eos_token_id\n",
        "            )\n",
        "\n",
        "        output_text = tokenizer.batch_decode(output_ids, skip_special_tokens=True)[0]\n",
        "\n",
        "        # 필요시 <|endofturn|>, <|stop|> 등에서 자르기\n",
        "        for stop_str in [\"<|endofturn|>\", \"<|stop|>\"]:\n",
        "            if stop_str in output_text:\n",
        "                output_text = output_text.split(stop_str)[0]\n",
        "\n",
        "        # 출력 정리 (선택사항)\n",
        "        if clean_output:\n",
        "            output_text = clean_model_output(output_text)\n",
        "\n",
        "        return output_text\n",
        "\n",
        "    except Exception as e:\n",
        "        return f\"❌ 오류 발생: {str(e)}\""
      ],
      "metadata": {
        "id": "QBU5a4Isw62r"
      },
      "id": "QBU5a4Isw62r",
      "execution_count": 23,
      "outputs": []
    },
    {
      "cell_type": "markdown",
      "id": "6e00626d-ca14-411b-898f-856309a98b6d",
      "metadata": {
        "id": "6e00626d-ca14-411b-898f-856309a98b6d"
      },
      "source": [
        "## 문법 수정\n",
        "\n",
        "SYSTEM : 당신은 문장을 받게 될 것이며, 당신의 임무는 그것을 표준 한국어로 변환하는 것입니다.  \n",
        "USER :   \n",
        "안갔어 시장에 그녀는."
      ]
    },
    {
      "cell_type": "code",
      "execution_count": 24,
      "id": "m0tb3t-P_Kxp",
      "metadata": {
        "colab": {
          "base_uri": "https://localhost:8080/"
        },
        "id": "m0tb3t-P_Kxp",
        "outputId": "9d89824b-d33d-4ef6-a23d-032993275420"
      },
      "outputs": [
        {
          "output_type": "stream",
          "name": "stdout",
          "text": [
            "시장에 안 갔어요. 그녀는요.\n"
          ]
        }
      ],
      "source": [
        "# 문법 수정 예시\n",
        "system_msg = \"당신은 문장을 받게 될 것이며, 당신의 임무는 그것을 표준 한국어로 변환하는 것입니다.\"\n",
        "user_msg = \"안갔어 시장에 그녀는.\"\n",
        "\n",
        "result = generate_response(system_msg, user_msg)\n",
        "print(result)"
      ]
    },
    {
      "cell_type": "markdown",
      "id": "54f4415f-60b6-4308-aaf1-9f46dc634445",
      "metadata": {
        "id": "54f4415f-60b6-4308-aaf1-9f46dc634445"
      },
      "source": [
        "## 구조화되지 않은 데이터의 구문 분석\n",
        "SYSTEM : 구조화되지 않은 데이터가 제공되며 이를 CSV 형식으로 구문 분석하는 작업이 수행됩니다.  \n",
        "USER :   \n",
        "최근 발견된 행성 구크럭스(Goocrux)에서는 많은 과일이 발견됐다. 그곳에서 자라는 네오스키즐이 있는데, 보라색이고 사탕 맛이 납니다. 회색 빛이 도는 파란색 과일이고 매우 시큼하며 레몬과 약간 비슷한 로헤클(loheckles)도 있습니다. 포유닛은 밝은 녹색을 띠며 단맛보다 풍미가 더 좋습니다. 네온 핑크색 맛과 솜사탕 같은 맛이 나는 루프노바도 많이 있습니다. 마지막으로 글로울(glowls)이라는 과일이 있는데, 이 과일은 신맛과 부식성이 있는 매우 신맛과 쓴맛이 나며 옅은 오렌지색을 띠고 있습니다."
      ]
    },
    {
      "cell_type": "code",
      "execution_count": 25,
      "id": "pRK-bu-K_760",
      "metadata": {
        "colab": {
          "base_uri": "https://localhost:8080/"
        },
        "id": "pRK-bu-K_760",
        "outputId": "351dc99b-1698-4f1b-ca40-23ddfbd89719"
      },
      "outputs": [
        {
          "output_type": "stream",
          "name": "stdout",
          "text": [
            "다음은 최근 발견된 행성 구크럭스에서 발견된 다양한 과일에 대한 분석입니다.\n",
            "\n",
            "| 과일명        | 색상       | 맛           |\n",
            "|---------------|------------|--------------|\n",
            "| 네오스키즐     | 보라색      | 사탕 맛       |\n",
            "| 로험클         | 회색빛 파란색  | 시큼한 맛    |\n",
            "| 포유닛        | 밝은 녹색   | 달콤하지만 풍미중시 |\n",
            "| 루프노바          | 네온 핑크색   | 솜사탕같은 맛|\n",
            "| 글로울            | 옅은 오렌지색 | 신맛 및 쓰림 |\n",
            "\n",
            "이러한 정보는 각 과일의 특징을 이해하는 데 도움이 될 것입니다. 추가적인 연구와 탐사가 필요할 수도 있습니다.\n"
          ]
        }
      ],
      "source": [
        "system_msg = \"구조화되지 않은 데이터가 제공되며 이를 CSV 형식으로 구문 분석하는 작업이 수행됩니다.\"\n",
        "\n",
        "user_msg = \"\"\"\n",
        "최근 발견된 행성 구크럭스(Goocrux)에서는 많은 과일이 발견됐다. 그곳에서 자라는 네오스키즐이 있는데, 보라색이고 사탕 맛이 납니다.\n",
        "회색 빛이 도는 파란색 과일이고 매우 시큼하며 레몬과 약간 비슷한 로헤클(loheckles)도 있습니다. 포유닛은 밝은 녹색을 띠며 단맛보다 풍미가 더 좋습니다.\n",
        "네온 핑크색 맛과 솜사탕 같은 맛이 나는 루프노바도 많이 있습니다. 마지막으로 글로울(glowls)이라는 과일이 있는데,\n",
        "이 과일은 신맛과 부식성이 있는 매우 신맛과 쓴맛이 나며 옅은 오렌지색을 띠고 있습니다.\n",
        "이 데이터를 과일명, 색상, 맛으로 분석해 주세요.\n",
        "\"\"\"\n",
        "\n",
        "result = generate_response(system_msg, user_msg)\n",
        "print(result)"
      ]
    },
    {
      "cell_type": "markdown",
      "id": "981ba846-9805-40fb-8710-a370d3d3ebd5",
      "metadata": {
        "id": "981ba846-9805-40fb-8710-a370d3d3ebd5"
      },
      "source": [
        "## 대화 상태를 수동으로 관리\n",
        "\n",
        "| 역할       | 설명                                                                                      |\n",
        "|------------|-------------------------------------------------------------------------------------------|\n",
        "| developer  | 애플리케이션 개발자가 제공한 지침. **user 메시지보다 우선적으로 처리**됩니다.              |\n",
        "| user       | 최종 사용자가 입력한 지침. developer 메시지보다 **우선순위가 낮습니다.**                  |\n",
        "| assistant  | 모델이 생성한 응답 메시지. 응답 결과는 이 역할로 반환됩니다.                              |\n"
      ]
    },
    {
      "cell_type": "code",
      "execution_count": 26,
      "id": "zCBZc2VUByQV",
      "metadata": {
        "colab": {
          "base_uri": "https://localhost:8080/"
        },
        "id": "zCBZc2VUByQV",
        "outputId": "c7595a56-e548-4994-b1c2-a9a440e59cfd"
      },
      "outputs": [
        {
          "output_type": "stream",
          "name": "stdout",
          "text": [
            "안녕하세요! 딥러닝과 머신러닝은 모두 인공지능 분야에서 중요한 역할을 하지만, 그 목적이나 접근 방식에서 차이가 있습니다.\n",
            "\n",
            "1. **목적**:\n",
            "   - **머신러닝**: 주로 데이터로부터 패턴을 학습하여 예측 모델을 만드는 것을 목표로 합니다. 예를 들어, 스팸 이메일을 분류하거나 신용 카드가 사기인지 판단하는 등의 작업을 수행합니다.\n",
            "   - **딥러닝**: 더 깊은 신경망을 사용하여 인간의 뇌와 유사한 방식으로 데이터를 처리하고 이해하는 것이 목표입니다. 이는 복잡한 문제를 해결하는 데 유용하며 이미지 인식, 자연어 처리 등 다양한 응용 분야에 적용됩니다.\n",
            "\n",
            "2. **신경망 깊이와 구조**:\n",
            "   - **머신러닝 모델(예: SVM, 로지스틱 회귀)**: 일반적으로 얕은 신경망을 사용합니다. 여러 레이어로 구성되어 있지만 각 층의 수는 제한적입니다.\n",
            "   - **딥러닝 모델(예: CNN, RNN, LSTM)**: 깊은 신경망을 사용하므로 다수의 계층으로 구성되며, 이러한 구조를 통해 더욱 복잡한 문제도 해결할 수 있는 능력을 가집니다.\n",
            "\n",
            "3. **학습 방법**:\n",
            "   - **머신러닝 알고리즘**: 보통 정형화된 데이터에 잘 맞으며, 도메인 지식이 필요한 경우가 많습니다 (예: k-최근접 이웃(KNN), 의사결정 트리).\n",
            "   - **딥러닝**: 비정규화 및 고차원 데이터까지 효과적으로 다룰 수 있으며, 훈련 과정이 상대적으로 복잡하지만 결과는 매우 강력할 수 있습니다. 특히 대규모 데이터셋에서도 일반화 능력이 뛰어납니다.\n",
            "\n",
            "4. **응용 분야**:\n",
            "   - **머신러닝**: 통계 분석, 금융 분석, 마케팅 자동화 등에서 많이 활용됩니다.\n",
            "   - **딥러닝**: 자율 주행차, 음성 인식을 포함한 시각·청각 처리가 필요하거나 복잡한 문제를 다루는 경우 자주 선택됩니다.\n",
            "\n",
            "결론적으로, 두 기술은 서로 보완적이며 특정 문제에 따라 적절한 방법을 선택할 필요가 있습니다. 어떤 경우에는 간단한 모델링으로도 충분하지만, 다른 문제는 심층적인 연구와 고급 기술을 요구하기 때문에 각각의 장점과 단점을 이해하고 상황에 맞게 사용하는 것이 중요합니다. 추가 질문 있으시면 언제든지 말씀해 주세요!\n"
          ]
        }
      ],
      "source": [
        "# 대화 히스토리를 하나의 시스템 메시지로 만들기\n",
        "system_content = \"\"\"이전 대화:\n",
        "사용자: 안녕하세요.\n",
        "어시스턴트: 안녕하세요. 무었을 도와드릴까요?\n",
        "사용자: 딥러닝과 머신러닝의 차이점이 무었인가요?\"\"\"\n",
        "\n",
        "user_content = \"딥러닝과 머신러닝의 차이점에 대해 자세히 설명해주세요.\"\n",
        "\n",
        "result = generate_response(system_content, user_content)\n",
        "print(result)"
      ]
    },
    {
      "cell_type": "markdown",
      "id": "05e0d9c0-12f4-4ed8-aaf8-a704505fcb98",
      "metadata": {
        "id": "05e0d9c0-12f4-4ed8-aaf8-a704505fcb98"
      },
      "source": [
        "## Keyword 추출"
      ]
    },
    {
      "cell_type": "code",
      "execution_count": 27,
      "id": "c99d0449-9850-4e25-b779-2e1041a1577a",
      "metadata": {
        "colab": {
          "base_uri": "https://localhost:8080/"
        },
        "id": "c99d0449-9850-4e25-b779-2e1041a1577a",
        "outputId": "15b40ffa-cdd1-49c5-ce8c-601999c72af2"
      },
      "outputs": [
        {
          "output_type": "stream",
          "name": "stdout",
          "text": [
            "다음과 같은 주요 단어가 있습니다:\n",
            "\n",
            "1. 블랙 온 블랙 (Black-on-Black)\n",
            "2. 도자기 \n",
            "3. 뉴멕시코\n",
            "4. 푸에블로 원주민\n",
            "5. 20세기\n",
            "6. 21세기\n",
            "7. 환원 소성\n",
            "8. 디자인\n",
            "9. 전통적인 기술\n",
            "10. 검은 바탕\n",
            "11. 예술가들\n",
            "12. 조상\n",
            "13. 작품\n"
          ]
        }
      ],
      "source": [
        "text = \"\"\"\n",
        "\"블랙 온 블랙 도자기(Black-on-Black ware)는 뉴멕시코 북부의 푸에블로 원주민 도자기 예술가들이 개발한 20세기 및 21세기 도자기 전통입니다.\n",
        "전통적인 환원 소성 블랙웨어는 푸에블로 예술가들에 의해 수세기 동안 만들어졌습니다.\n",
        "지난 세기의 흑색 자기는 표면이 매끄럽고 선택적 버니싱이나 내화 슬립을 적용하여 디자인을 적용한 제품입니다.\n",
        "또 다른 스타일은 디자인을 조각하거나 절개하고 융기된 부분을 선택적으로 연마하는 것입니다.\n",
        "여러 세대에 걸쳐 Kha'po Owingeh와 P'ohwhóge Owingeh 푸에블로의 여러 가족은 여주인 도예가들로부터 전수받은 기술을 사용하여 검은 바탕에 검은 도자기를 만들어 왔습니다.\n",
        "다른 푸에블로 출신의 예술가들도 검정색 바탕에 검정색 도자기를 제작했습니다. 몇몇 현대 예술가들은 조상의 도자기를 기리는 작품을 만들었습니다.\"\n",
        "\"\"\"\n",
        "\n",
        "instructions=\"텍스트 블록이 제공되며, 당신의 임무는 텍스트 블록에서 키워드 목록을 추출하는 것입니다.\"\n",
        "\n",
        "result = generate_response(instructions, text)\n",
        "print(result)"
      ]
    },
    {
      "cell_type": "markdown",
      "id": "23c706ef-9a0c-4fe7-971e-d0d23b9c7e45",
      "metadata": {
        "id": "23c706ef-9a0c-4fe7-971e-d0d23b9c7e45"
      },
      "source": [
        "## Python 버그 수정\n",
        "\n"
      ]
    },
    {
      "cell_type": "code",
      "execution_count": 28,
      "id": "bb3b30a2-e794-45ec-bacb-2755457a65dc",
      "metadata": {
        "colab": {
          "base_uri": "https://localhost:8080/"
        },
        "id": "bb3b30a2-e794-45ec-bacb-2755457a65dc",
        "outputId": "4c6894cf-de19-442d-9f3e-68831cf786d7"
      },
      "outputs": [
        {
          "output_type": "stream",
          "name": "stdout",
          "text": [
            "코드에 몇 가지 오류가 있습니다:\n",
            "\n",
            "- `answer` 변수에는 할당 연산자 대신 대입 연산자를 사용해야 합니다 (`==` 가 아니라).\n",
            "- 반복문에서 `input()` 함수로 입력을 받고 있습니다만, 이 경우 각 시도마다 결과를 저장하고 비교할 수 있도록 변경되어야 합니다.\n",
            "- 마지막 조건문이 잘못되었습니다: 문자열 연결과 정수 곱셈은 서로 다른 데이터 타입으로 인해 불가능합니다.\n",
            "\n",
            "다음은 이러한 오류를 수정한 수정된 버전입니다:\n",
            "\n",
            "```python\n",
            "import random\n",
            "\n",
            "random_a = random.randint(1, 11) # 범위 조정 (1~12 -> 2~10 또는 원하는 범위로 설정)\n",
            "\n",
            "for _ in range(10): \n",
            "    while True: \n",
            "        try: \n",
            "            num_b = int(input(f\"What is {random_a} x {num_b}? \"))\n",
            "            break\n",
            "        except ValueError:\n",
            "            print(\"Please enter a number.\")\n",
            "    \n",
            "    result = random_a * num_b\n",
            "    \n",
            "    for i in range(5):  \n",
            "        user_answer = input(\"Your result was: \")\n",
            "        \n",
            "        if str(result).lower() == user_answer.lower():\n",
            "            print(\"Well done!\")\n",
            "            break  \n",
            "        elif str(result).lower()!= user_answer.lower():  \n",
            "            print(\"That's not correct.\")\n",
            "            \n",
            "# 추가적인 로직 필요 시 여기에 작성하세요.\n",
            "```\n",
            "\n",
            "수정 사항 요약:\n",
            "- 모든 출력 메시지를 적절하게 수정했습니다(`print (\"...\")` → `print(\"...\")`, 예시 출력: 'Your result was: 15' / 'You got it right!')\n",
            "- 사용자 입력 값을 받아서 정확히 숫자와 일치하는지 확인하도록 했습니다.\n",
            "- 예상치 못한 값이 주어졌을 때 에러 처리 및 재입력을 요청했습니다.\n",
            "- 범위를 넓혀 더 다양한 테스트 시나리오를 포함시켰습니다.\n",
            "- 올바른 답이 나올 때까지 계속 질문하며, 여러 번 시도할 수 있는 기능을 구현했습니다.\n"
          ]
        }
      ],
      "source": [
        "pgm_code = \"\"\"\n",
        "import Random\n",
        "a = random.randint(1,12)\n",
        "b = random.randint(1,12)\n",
        "for i in range(10):\n",
        "    question = \"What is \"+ a +\" x \"+  b+\"? \"\n",
        "    answer = input(question)\n",
        "    if answer = a*b\n",
        "        print (Well done!)\n",
        "    else:\n",
        "        print(\"No.\")\n",
        "\n",
        "\"\"\"\n",
        "\n",
        "instructions=\"Python 코드 조각이 제공되며, 귀하의 임무는 그 안의 버그를 찾아 수정하는 것입니다. 수정된 코드를 제시해 주세요.\"\n",
        "\n",
        "result = generate_response(instructions, pgm_code )\n",
        "print(result)"
      ]
    },
    {
      "cell_type": "markdown",
      "id": "471099c0-0e56-48f8-97d4-ce7460d27184",
      "metadata": {
        "id": "471099c0-0e56-48f8-97d4-ce7460d27184"
      },
      "source": [
        "## Program Code 설명"
      ]
    },
    {
      "cell_type": "code",
      "execution_count": 29,
      "id": "011734c9-7f36-4e8c-a625-be8f300a89d3",
      "metadata": {
        "colab": {
          "base_uri": "https://localhost:8080/"
        },
        "id": "011734c9-7f36-4e8c-a625-be8f300a89d3",
        "outputId": "35828429-82b1-45d8-c3f4-60f520ca9bd0"
      },
      "outputs": [
        {
          "output_type": "stream",
          "name": "stdout",
          "text": [
            "```python\n",
            "import os\n",
            "from uuid import uuid4 as UUID\n",
            "\n",
            "\n",
            "# 로그 클래스 정의: 로깅 기능을 제공하는 클래스입니다.\n",
            "class Log:\n",
            "\n",
            "    # 초기화 메서드: 지정된 경로에 디렉토리를 생성하고 파일을 엽니다.\n",
            "    \n",
            "    def __init__(self, path): \n",
            "        dirname = os.path.dirname(path)  \n",
            "        try:   \n",
            "          os.makedirs(dirname, exist_ok=True)   \n",
            "        except OSError as e:   \n",
            "            print(\"Error creating directory %s: %s\" % (dirname,e))   \n",
            "        \n",
            "        with open(path, \"a+\") as f:\n",
            "            \n",
            "            # 파일 크기를 가져와 마지막 줄로 사용합니다.\n",
            "            size = os.path.getsize(path)\n",
            "\n",
            "            # 파일의 끝에 세미콜론을 추가하여 형식을 유지합니다.\n",
            "            if size > 0:\n",
            "                f.seek(size - 1)\n",
            "                end = f.read(1)\n",
            "                if end!= \".\":   \n",
            "                    f.write(\".\")  \n",
            "\n",
            "            # 현재 파일 포인터를 다시 설정합니다.\n",
            "            self.f = f\n",
            "            self.path = path\n",
            "            \n",
            "    # 'log' 함수: 이벤트를 로그에 기록합니다.\n",
            "\n",
            "    def log(self, event):\n",
            "\n",
            "        # 각 이벤트 ID가 고유하도록 UUID를 할당한 후 문자열로 변환합니다.\n",
            "        event[\"_event_id\"] = str(uuid.uuid4())\n",
            "\n",
            "        # JSON 형식으로 데이터를 직렬화하고 해당 경로로 씁니다.\n",
            "        json.dump(event, self.f)\n",
            "        self.f.write(\"\\n\")  \n",
            "\n",
            "    #'state' 메소드는 특정 시간 동안 제출된 이벤트 상태를 추적하기 위한 메소드로 보입니다.\n",
            "\n",
            "    def state(self):\n",
            "        state = {\n",
            "            **{\"complete\": {}},   # 완료 상태 딕셔너리\n",
            "            \"last\": None           # 마지막으로 처리한 이벤트 객체\n",
            "        }\n",
            "      \n",
            "        try:   \n",
            "            # 파일에서 모든 라인을 읽어옵니다.\n",
            "            with open(self.path, \"r\") as p:\n",
            "                \n",
            "                # 읽은 내용을 반복하며 작업을 수행합니다.\n",
            "                for line in p:   \n",
            "\n",
            "                    # JSON으로 파싱한 다음 타입이 submit이고 성공했을 경우에만 업데이트를 진행합니다.\n",
            "                    if type(line) == bytes and line.startswith(\"['\"):  \n",
            "                        event = json.loads(line) \n",
            "\n",
            "                        # 상태가 complete 리스트에 존재하면 추가로 표시합니다.\n",
            "                        if \"submit\" not in [\"update\", \"reset\"]:\n",
            "                            pass\n",
            "                        elif isinstance(event.get('success'), bool):\n",
            "                            pass\n",
            "                        else:   \n",
            "                                if event.get('id') in state[\"complete\"]:\n",
            "                                    continue\n",
            "                                else:\n",
            "                                    state[\"complete\"][event['id']] = True\n",
            "                                    state[\"last\"] = event\n",
            "    \n",
            "        except IOError as iae:   \n",
            "            print (\"IO Error occurred:\",aie)   \n",
            "        return state\n",
            "```\n",
            "위 코드에서는 `os` 모듈과 `json` 모듈을 사용하여 파일 입출력 및 JSON 데이터 저장/파일을 하고 있습니다. 그리고 `uuid` 모듈도 포함되어 있어, 이벤트 식별자에는 고유한 값인 UUID를 사용하고 있음을 알립니다. 또한 예외처리가 이루어져 있고 오류를 잡아내는 부분에서도 이를 확인할 수 있습니다.\n"
          ]
        }
      ],
      "source": [
        "codes = \"\"\"\n",
        "class Log:\n",
        "    def __init__(self, path):\n",
        "        dirname = os.path.dirname(path)\n",
        "        os.makedirs(dirname, exist_ok=True)\n",
        "        f = open(path, \"a+\")\n",
        "\n",
        "        # Check that the file is newline-terminated\n",
        "        size = os.path.getsize(path)\n",
        "        if size > 0:\n",
        "            f.seek(size - 1)\n",
        "            end = f.read(1)\n",
        "            if end != \"\\n\":\n",
        "                f.write(\"\\n\")\n",
        "        self.f = f\n",
        "        self.path = path\n",
        "\n",
        "    def log(self, event):\n",
        "        event[\"_event_id\"] = str(uuid.uuid4())\n",
        "        json.dump(event, self.f)\n",
        "        self.f.write(\"\\n\")\n",
        "\n",
        "    def state(self):\n",
        "        state = {\"complete\": set(), \"last\": None}\n",
        "        for line in open(self.path):\n",
        "            event = json.loads(line)\n",
        "            if event[\"type\"] == \"submit\" and event[\"success\"]:\n",
        "                state[\"complete\"].add(event[\"id\"])\n",
        "                state[\"last\"] = event\n",
        "        return state\n",
        "\"\"\"\n",
        "\n",
        "instructions=\"당신에게는 코드 조각이 제공될 것이며, 당신의 임무는 그것에 한국어 주석을 추가하는 것입니다.\"\n",
        "\n",
        "result = generate_response(instructions, codes)\n",
        "print(result)"
      ]
    },
    {
      "cell_type": "markdown",
      "id": "a1934098-ba94-4cce-a64b-0a46566f67c2",
      "metadata": {
        "id": "a1934098-ba94-4cce-a64b-0a46566f67c2"
      },
      "source": [
        "## 감성 분류기\n",
        "- 한개의 text 감성 분석"
      ]
    },
    {
      "cell_type": "code",
      "execution_count": 30,
      "id": "fzHN82g9Fptf",
      "metadata": {
        "colab": {
          "base_uri": "https://localhost:8080/"
        },
        "id": "fzHN82g9Fptf",
        "outputId": "0ebb461e-e3c6-40d3-ad98-fa4fa81f48c6"
      },
      "outputs": [
        {
          "output_type": "stream",
          "name": "stdout",
          "text": [
            "긍정적인 감정입니다. \"배트맨 영화\"에 대한 긍정적인 표현을 사용하고 있습니다.\n"
          ]
        }
      ],
      "source": [
        "instruction=\"당신은 텍스트를 입력 받게 될 것이고, 당신의 임무는 텍스트의 감정을 긍정적, 중립적, 부정적으로 분류하는 것입니다.\"\n",
        "input=\"나는 새로운 배트맨 영화가 좋습니다!\"\n",
        "\n",
        "result = generate_response(instruction,  input)\n",
        "print(result)"
      ]
    },
    {
      "cell_type": "markdown",
      "id": "4f659121-d028-4f51-a30c-c192404f96f8",
      "metadata": {
        "id": "4f659121-d028-4f51-a30c-c192404f96f8"
      },
      "source": [
        "- 여러개의 text 감성 분석"
      ]
    },
    {
      "cell_type": "code",
      "execution_count": 31,
      "id": "EQgsaiHnICeA",
      "metadata": {
        "colab": {
          "base_uri": "https://localhost:8080/"
        },
        "id": "EQgsaiHnICeA",
        "outputId": "80b62620-8d3d-4933-ff13-d067c9433575"
      },
      "outputs": [
        {
          "output_type": "stream",
          "name": "stdout",
          "text": [
            "Sentiments: 나는 새로운 배트맨 영화가 좋습니다!\n",
            "Sentiment: 긍정적인 감정입니다. \"새로\"라는 단어의 의미에 열정과 기대감이 담겨 있습니다. 또한 \"좋습니다!\"라고 표현하여 강한 호평을 나타내고 있습니다.\n",
            "\n",
            "Sentiments: 오늘 날씨가 너무 안 좋네요.\n",
            "Sentiment: 감정: 부정적\n",
            "\n",
            "이유: \"날씨가 너무 안 좋다\"라는 표현은 일반적으로 부정적인 느낌을 주며, 불편하거나 우울한 기분을 나타낼 수 있습니다. 긍정적인 감정이 아닌 이유는 이러한 상황이 기분 전환에 방해가 되거나 일상 활동에 영향을 줄 가능성이 높기 때문입니다.\n",
            "\n",
            "Sentiments: 커피 마시러 가는 길이 설레네요!\n",
            "Sentiment: 긍정적인 감정입니다.\n",
            "\n",
            "이 문장은 커피를 사러 가는 것이 기대되고 즐거운 일임을 표현하고 있습니다. \"설렌다\"라는 단어는 긍정적인 감정을 나타내며, 새로운 경험이나 활동을 앞두고 있을 때 일반적으로 사용되는 단어입니다.\n",
            "\n",
            "Sentiments: 회의가 너무 길고 지루했습니다.\n",
            "Sentiment: 부정적입니다. 회의 자체와 시간이 길게 느껴졌기 때문입니다.\n",
            "\n",
            "Sentiments: 점심으로 먹은 피자가 맛있었어요.\n",
            "Sentiment: 긍정적인 감정입니다! 맛있는 음식을 즐긴 경험에 대해 기쁘고 만족스러운 느낌을 표현하셨습니다.\n",
            "\n"
          ]
        }
      ],
      "source": [
        "sentiments = [\n",
        "    \"나는 새로운 배트맨 영화가 좋습니다!\",\n",
        "    \"오늘 날씨가 너무 안 좋네요.\",\n",
        "    \"커피 마시러 가는 길이 설레네요!\",\n",
        "    \"회의가 너무 길고 지루했습니다.\",\n",
        "    \"점심으로 먹은 피자가 맛있었어요.\"\n",
        "]\n",
        "\n",
        "instruction = \"당신은 텍스트를 입력 받게 될 것이고, 당신의 임무는 텍스트의 감정을 긍정적, 중립적, 부정적으로 분류하는 것입니다.\"\n",
        "\n",
        "responses = []\n",
        "for sent in sentiments:\n",
        "    result = generate_response(instruction, sent)\n",
        "    # 감정 분석 결과 저장\n",
        "    responses.append({\n",
        "        \"text\": sent,\n",
        "        \"sentiment\": result\n",
        "    })\n",
        "\n",
        "# 결과 출력\n",
        "for result in responses:\n",
        "    print(f\"Sentiments: {result['text']}\\nSentiment: {result['sentiment']}\\n\")"
      ]
    },
    {
      "cell_type": "markdown",
      "id": "55aee066-e4e5-4e29-894e-8519710a44c5",
      "metadata": {
        "id": "55aee066-e4e5-4e29-894e-8519710a44c5"
      },
      "source": [
        "## 회의록 요약\n",
        "\n",
        "SYSTEM : 회의록이 제공되며 귀하의 임무는 다음과 같이 회의를 요약하는 것입니다.  \n",
        "\n",
        " -토론의 전반적인 요약  \n",
        " -행동항목(무엇을 해야 하는지, 누가 하는지)  \n",
        " -해당하는 경우 다음 회의에서 더 자세히 논의해야 할 주제 목록입니다.  "
      ]
    },
    {
      "cell_type": "code",
      "execution_count": 32,
      "id": "fd249722-e848-4ce9-8e20-84103c525c4d",
      "metadata": {
        "colab": {
          "base_uri": "https://localhost:8080/"
        },
        "id": "fd249722-e848-4ce9-8e20-84103c525c4d",
        "outputId": "098807ce-c0ff-4d14-b8b4-c5ab9b248561"
      },
      "outputs": [
        {
          "output_type": "stream",
          "name": "stdout",
          "text": [
            "**회의 요약**\n",
            "\n",
            "1. **새로운 팀원 소개 및 환영**\n",
            "   - 새 팀원인 Comet에게 환영 인사를 전함. \n",
            "\n",
            "2. **Planet Zog 관련 의제**\n",
            "   - Zogians과의 소통 문제를 해결하기 위한 방안 논의 \n",
            "   - 영어 학습 필요성에 따라 Zogian-영어 사전 작업 착수 결정.\n",
            "\n",
            "3. **7구역 우주 해적 대응책 모색**\n",
            "   - 과거 약탈 사건 회상하며 새로운 전략 강조 \n",
            "   - 은폐 기술 개발 현황 설명 및 추가 노력 약속.\n",
            "\n",
            "4. **연례 은하계 베이크오프 평가**\n",
            "   - 화성의 수상작 공개 및 기대감 표현\n",
            "   - 내년 목표 설정 및 성공적인 요리법 탐색 확인.\n",
            "\n",
            "5. **자선 모금 행사 기획**\n",
            "   - 다양한 이벤트 아이디어 제시 ('Dunk the Alien\n"
          ]
        }
      ],
      "source": [
        "meeting_minutes = \"\"\"\n",
        "회의 날짜: 2050년 3월 5일\n",
        " 미팅 시간: 오후 2시\n",
        " 위치: 은하계 본부 회의실 3B\n",
        "\n",
        " 참석자:\n",
        " - 캡틴 스타더스트\n",
        " - 퀘이사 박사\n",
        " - 레이디 네뷸라\n",
        " - 초신성 경\n",
        " - 혜성 씨\n",
        "\n",
        " 오후 2시 5분에 캡틴 스타더스트가 회의를 소집했습니다.\n",
        "\n",
        " 1. 새로운 팀원인 Ms. Comet에 대한 소개와 환영 인사\n",
        "\n",
        " 2. Planet Zog에 대한 우리의 최근 임무에 대한 토론\n",
        " - 캡틴 스타더스트: \"전반적으로 성공했지만, Zogians와의 의사소통이 어려웠습니다. 언어 능력을 향상시켜야 합니다.\"\n",
        " - 퀘이사 박사: \"동의합니다. 즉시 Zogian-영어 사전 작업을 시작하겠습니다.\"\n",
        " - Lady Nebula: \"Zogian 음식은 말 그대로 이 세상의 것이 아니었습니다! 우리는 배에서 Zogian 음식의 밤을 갖는 것을 고려해야 합니다.\"\n",
        "\n",
        " 3. 7구역 우주 해적 문제 해결\n",
        " - 초신성 경: \"이 해적들을 처리하려면 더 나은 전략이 필요합니다. 그들은 이번 달에 이미 세 척의 화물선을 약탈했습니다.\"\n",
        " - 스타더스트 선장: \"그 지역의 순찰을 늘리는 것에 대해 스타빔 제독과 이야기하겠습니다.\n",
        " - 퀘이사 박사: \"저는 우리 함선이 해적의 발각을 피하는 데 도움이 될 수 있는 새로운 은폐 기술을 연구하고 있습니다. 프로토타입을 완성하려면 몇 주가 더 필요할 것입니다.\"\n",
        "\n",
        " 4. 연례 은하계 베이크오프 검토\n",
        " - Lady Nebula: \"우리 팀이 대회에서 2위를 했다는 소식을 전해드리게 되어 기쁩니다! 우리 화성 머드 파이가 대박을 쳤어요!\"\n",
        " - 혜성 씨: \"내년에는 1위를 목표로 합시다. 제 생각에는 승자가 될 수 있을 것 같은 주피터 젤로의 비법이 있습니다.\"\n",
        "\n",
        " 5. 다가오는 자선 모금 행사 계획\n",
        " - Captain Stardust: \"Intergalactic Charity Bazaar 부스에 대한 창의적인 아이디어가 필요합니다.\"\n",
        " - Sir Supernova: \"'Dunk the Alien' 게임은 어때요? 외계인 복장을 한 자원봉사자에게 사람들이 물 풍선을 던지게 할 수 있어요.\"\n",
        " - 퀘이사 박사: \"승자에게 상금을 주는 '별 이름을 지어라' 퀴즈 게임을 준비할 수 있어요.\"\n",
        " - Lady Nebula: \"좋은 아이디어입니다, 여러분. 이제 보급품을 모으고 게임을 준비합시다.\"\n",
        "\n",
        " 6. 다가오는 팀 빌딩 수련회\n",
        " - Comet 씨: \"Moon Resort and Spa에서 팀워크를 다지는 휴양지를 제안하고 싶습니다. 최근 임무를 마친 후 유대감을 형성하고 휴식을 취할 수 있는 좋은 기회입니다.\"\n",
        " - 캡틴 스타더스트: \"환상적인 생각이군요. 예산을 확인해 보고 실현할 수 있는지 알아보겠습니다.\"\n",
        "\n",
        " 7. 차기회의 안건\n",
        " - Zogian-English 사전 업데이트 (Dr. Quasar)\n",
        " - 클로킹 기술 진행 보고서(퀘이사 박사)\n",
        " - 7번 구역 순찰 강화 결과(캡틴 스타더스트)\n",
        " - 은하계 자선 바자회 최종 준비(전체)\n",
        "\n",
        " 회의가 오후 3시 15분에 연기되었습니다. 다음 회의는 2050년 3월 19일 오후 2시에 은하계 본부 회의실 3B에서 열릴 예정입니다.\n",
        "\"\"\"\n",
        "instruction = \"\"\"\n",
        "          회의록이 제공되며 귀하의 임무는 다음과 같이 회의를 요약하는 것입니다.\n",
        "             -토론의 전반적인 요약\n",
        "             -행동항목(무엇을 해야 하는지, 누가 하는지)\n",
        "             -해당하는 경우 다음 회의에서 더 자세히 논의해야 할 주제 목록입니다.\n",
        "      \"\"\"\n",
        "result = generate_response(instruction, meeting_minutes)\n",
        "print(result)"
      ]
    },
    {
      "cell_type": "markdown",
      "id": "0e064629-07fc-4c86-bcf8-05d1bcdcb6da",
      "metadata": {
        "id": "0e064629-07fc-4c86-bcf8-05d1bcdcb6da"
      },
      "source": [
        "## 이모티콘 번역\n",
        "SYSTEM : 텍스트가 제공되며, 귀하의 임무는 이를 이모티콘으로 번역하는 것입니다. 일반 텍스트를 사용하지 마십시오. 이모티콘만으로 최선을 다하세요.  \n",
        "USER : 인공지능은 큰 가능성을 지닌 기술이다."
      ]
    },
    {
      "cell_type": "code",
      "execution_count": 33,
      "id": "K-kRE0KwJ7YM",
      "metadata": {
        "colab": {
          "base_uri": "https://localhost:8080/"
        },
        "id": "K-kRE0KwJ7YM",
        "outputId": "3928feb9-1dce-490b-c555-322fdfed2a4b"
      },
      "outputs": [
        {
          "output_type": "stream",
          "name": "stdout",
          "text": [
            "🤖✨💡🌐🔮📚🛠️\n"
          ]
        }
      ],
      "source": [
        "instruction = \"텍스트가 제공되며, 귀하의 임무는 이를 이모티콘으로 번역하는 것입니다. 일반 텍스트를 사용하지 마십시오. 이모티콘만으로 최선을 다하세요.\"\n",
        "content = \"인공지능은 큰 가능성을 지닌 기술이다.\"\n",
        "\n",
        "result = generate_response(instruction, content)\n",
        "print(result)"
      ]
    },
    {
      "cell_type": "markdown",
      "id": "22cd2c83-3e39-456a-a45d-56ca3fcf3bd5",
      "metadata": {
        "id": "22cd2c83-3e39-456a-a45d-56ca3fcf3bd5"
      },
      "source": [
        "## 번역"
      ]
    },
    {
      "cell_type": "code",
      "execution_count": 34,
      "id": "Lxl18mD7KOsc",
      "metadata": {
        "colab": {
          "base_uri": "https://localhost:8080/"
        },
        "id": "Lxl18mD7KOsc",
        "outputId": "3ab28803-56e8-4543-f03e-92511891bc1e"
      },
      "outputs": [
        {
          "output_type": "stream",
          "name": "stdout",
          "text": [
            "안녕하세요! 저는 \"Jane\"입니다.\n",
            "\n",
            "당신의 이름은 무엇인가요?\n",
            "\n",
            "私の名前はジャーネです。あなたの名前は何ですか？\n"
          ]
        }
      ],
      "source": [
        "instruction = \"당신은 영어로 된 문장을 받게 될 것이고, 당신의 임무는 그것을 한국어와 동시에 일본어로 번역하는 것입니다.\"\n",
        "content = \"My name is Jane. What is yours?\"\n",
        "\n",
        "result = generate_response(instruction, content)\n",
        "print(result)"
      ]
    },
    {
      "cell_type": "code",
      "execution_count": 35,
      "id": "70dc3ac6-2df0-43aa-82d2-168378adc031",
      "metadata": {
        "id": "70dc3ac6-2df0-43aa-82d2-168378adc031",
        "colab": {
          "base_uri": "https://localhost:8080/",
          "height": 54
        },
        "outputId": "9338616a-3b1f-417c-90e3-5b8aac0b6881"
      },
      "outputs": [
        {
          "output_type": "execute_result",
          "data": {
            "text/plain": [
              "'\\n위에서 학습한 프롬프트 엔지니어링 기법을 활용하여 다음 과제를 수행해보세요:\\n\\n1. 자신만의 창의적인 프롬프트를 작성해보세요\\n2. 다양한 파라미터(max_length, repetition_penalty)를 조정해보세요\\n3. clean_output=False로 설정하여 원본 출력과 비교해보세요\\n\\n예시:\\n- 창의적 글쓰기 도우미\\n- 코딩 문제 해결 도우미  \\n- 학습 계획 수립 도우미\\n- 창의적 아이디어 브레인스토밍\\n'"
            ],
            "application/vnd.google.colaboratory.intrinsic+json": {
              "type": "string"
            }
          },
          "metadata": {},
          "execution_count": 35
        }
      ],
      "source": [
        "# 실습 과제\n",
        "\"\"\"\n",
        "위에서 학습한 프롬프트 엔지니어링 기법을 활용하여 다음 과제를 수행해보세요:\n",
        "\n",
        "1. 자신만의 창의적인 프롬프트를 작성해보세요\n",
        "2. 다양한 파라미터(max_length, repetition_penalty)를 조정해보세요\n",
        "3. clean_output=False로 설정하여 원본 출력과 비교해보세요\n",
        "\n",
        "예시:\n",
        "- 창의적 글쓰기 도우미\n",
        "- 코딩 문제 해결 도우미\n",
        "- 학습 계획 수립 도우미\n",
        "- 창의적 아이디어 브레인스토밍\n",
        "\"\"\"\n"
      ]
    },
    {
      "cell_type": "markdown",
      "id": "47062606-7e80-4332-9bbc-f48681169d83",
      "metadata": {
        "id": "47062606-7e80-4332-9bbc-f48681169d83"
      },
      "source": [
        "## 실습: 위의 Prompt 내용을 수정해 가며 api 실행"
      ]
    },
    {
      "cell_type": "code",
      "source": [],
      "metadata": {
        "id": "saeyZbwuxwgW"
      },
      "id": "saeyZbwuxwgW",
      "execution_count": null,
      "outputs": []
    }
  ],
  "metadata": {
    "accelerator": "GPU",
    "colab": {
      "gpuType": "T4",
      "provenance": []
    },
    "kernelspec": {
      "display_name": "Python 3 (ipykernel)",
      "language": "python",
      "name": "python3"
    },
    "language_info": {
      "codemirror_mode": {
        "name": "ipython",
        "version": 3
      },
      "file_extension": ".py",
      "mimetype": "text/x-python",
      "name": "python",
      "nbconvert_exporter": "python",
      "pygments_lexer": "ipython3",
      "version": "3.11.13"
    }
  },
  "nbformat": 4,
  "nbformat_minor": 5
}