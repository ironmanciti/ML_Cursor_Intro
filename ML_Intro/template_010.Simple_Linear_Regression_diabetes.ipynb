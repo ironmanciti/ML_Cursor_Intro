{
 "cells": [
  {
   "cell_type": "markdown",
   "id": "223718e9",
   "metadata": {
    "slideshow": {
     "slide_type": "slide"
    }
   },
   "source": [
    "# 단순 선형회귀 분석 - 캘리포니아 주택가격 데이터셋\n",
    "\n",
    "## 학습 목표\n",
    "- 단순 선형회귀의 개념과 원리 이해\n",
    "- 단변수, 다변수, 전체 특성을 사용한 선형회귀 모델 비교\n",
    "- 모델 성능 평가 지표 (R², MSE) 이해\n",
    "- 데이터 시각화를 통한 회귀 분석 결과 해석\n",
    "\n",
    "## 데이터셋 소개\n",
    "**캘리포니아 주택가격 데이터셋 (California Housing Dataset)**\n",
    "- **목표**: 캘리포니아 지역의 주택가격 예측\n",
    "- **특성 수**: 8개 (MedInc, HouseAge, AveRooms, AveBedrms, Population, AveOccup, Latitude, Longitude)\n",
    "- **샘플 수**: 20,640개\n",
    "- **목표 변수**: 주택가격 (단위: $100,000)\n",
    "\n",
    "이 노트북에서는 다음과 같은 분석을 수행합니다:\n",
    "1. **단변수 선형회귀**: MedInc(중간 소득) → 주택가격\n",
    "2. **다변수 선형회귀**: MedInc + AveRooms → 주택가격  \n",
    "3. **전체 특성 선형회귀**: 모든 8개 특성 → 주택가격"
   ]
  },
  {
   "cell_type": "code",
   "execution_count": null,
   "id": "136c81fb",
   "metadata": {},
   "outputs": [],
   "source": [
    "# 필요한 라이브러리 import\n",
    "# Windows에서 한글 폰트 설정 (필요시 주석 해제)\n",
    "# 시각화 설정"
   ]
  },
  {
   "cell_type": "markdown",
   "id": "0dc480f2",
   "metadata": {
    "slideshow": {
     "slide_type": "subslide"
    }
   },
   "source": [
    "## 1. 데이터 로드 및 탐색"
   ]
  },
  {
   "cell_type": "code",
   "execution_count": null,
   "id": "13f9c49c",
   "metadata": {},
   "outputs": [],
   "source": [
    "# California Housing 데이터셋 로드\n",
    "# 주택 가격 예측을 위한 데이터 (특성 간 상관관계가 다양함)"
   ]
  },
  {
   "cell_type": "markdown",
   "id": "ce8bb5e3",
   "metadata": {},
   "source": [
    "### 데이터셋 기본 정보"
   ]
  },
  {
   "cell_type": "code",
   "execution_count": null,
   "id": "1a5a4867",
   "metadata": {},
   "outputs": [],
   "source": [
    "# DataFrame으로 변환하여 데이터 탐색"
   ]
  },
  {
   "cell_type": "markdown",
   "id": "0d247d91",
   "metadata": {
    "slideshow": {
     "slide_type": "subslide"
    }
   },
   "source": [
    "### 데이터셋 상세 정보"
   ]
  },
  {
   "cell_type": "code",
   "execution_count": null,
   "id": "68384a6a",
   "metadata": {},
   "outputs": [],
   "source": [
    "# MedInc(중간 소득) 특성만 사용하여 단변수 선형회귀 데이터 준비\n",
    "# reshape(-1, 1): 1차원 배열을 2차원으로 변환 (sklearn 요구사항)"
   ]
  },
  {
   "cell_type": "markdown",
   "id": "e7621c26",
   "metadata": {},
   "source": [
    "### 데이터 분할"
   ]
  },
  {
   "cell_type": "code",
   "execution_count": null,
   "id": "c429c9e7",
   "metadata": {},
   "outputs": [],
   "source": [
    "# 개선된 데이터 분할 방법 사용\n",
    "# train_test_split을 사용하여 더 체계적으로 데이터 분할\n",
    "# MinMaxScaler를 사용한 데이터 정규화"
   ]
  },
  {
   "cell_type": "code",
   "execution_count": null,
   "id": "8f7e6ecb",
   "metadata": {},
   "outputs": [],
   "source": [
    "# 선형회귀 모델 생성 및 훈련 (정규화된 데이터 사용)\n",
    "# 정규화된 훈련 데이터로 모델 학습"
   ]
  },
  {
   "cell_type": "code",
   "execution_count": null,
   "id": "717235fe",
   "metadata": {},
   "outputs": [],
   "source": [
    "# 모델 예측 및 성능 평가 (정규화된 테스트 데이터 사용)\n",
    "# 모델 성능 평가"
   ]
  },
  {
   "cell_type": "markdown",
   "id": "55e550ab",
   "metadata": {
    "slideshow": {
     "slide_type": "subslide"
    }
   },
   "source": [
    "## 전체 특성 선형회귀 (모든 특성 → 주택가격)"
   ]
  },
  {
   "cell_type": "markdown",
   "id": "c1eb6ee0",
   "metadata": {},
   "source": [
    "### 전체 특성 데이터 분할"
   ]
  },
  {
   "cell_type": "code",
   "execution_count": null,
   "id": "c3461a24",
   "metadata": {},
   "outputs": [],
   "source": [
    "# 전체 특성을 사용한 선형회귀 데이터 준비"
   ]
  },
  {
   "cell_type": "code",
   "execution_count": null,
   "id": "0ce19c6d",
   "metadata": {},
   "outputs": [],
   "source": [
    "# 전체 특성 선형회귀를 위한 데이터 분할\n",
    "# MinMaxScaler를 사용한 전체 특성 데이터 정규화"
   ]
  },
  {
   "cell_type": "code",
   "execution_count": null,
   "id": "7e0df34a",
   "metadata": {},
   "outputs": [],
   "source": [
    "# 전체 특성 선형회귀 모델 훈련 (정규화된 데이터 사용)"
   ]
  },
  {
   "cell_type": "code",
   "execution_count": null,
   "id": "b63a3da2",
   "metadata": {},
   "outputs": [],
   "source": [
    "# 전체 특성 모델 예측 및 성능 평가 (정규화된 테스트 데이터 사용)"
   ]
  },
  {
   "cell_type": "markdown",
   "id": "d5351fb8",
   "metadata": {},
   "source": [
    "## 5. 모델 성능 비교 및 결과 해석"
   ]
  },
  {
   "cell_type": "code",
   "execution_count": null,
   "id": "b0774406",
   "metadata": {},
   "outputs": [],
   "source": []
  },
  {
   "cell_type": "code",
   "execution_count": null,
   "id": "027d59ab",
   "metadata": {},
   "outputs": [],
   "source": []
  }
 ],
 "metadata": {
  "kernelspec": {
   "display_name": "Python 3 (ipykernel)",
   "language": "python",
   "name": "python3"
  },
  "language_info": {
   "codemirror_mode": {
    "name": "ipython",
    "version": 3
   },
   "file_extension": ".py",
   "mimetype": "text/x-python",
   "name": "python",
   "nbconvert_exporter": "python",
   "pygments_lexer": "ipython3",
   "version": "3.9.16"
  }
 },
 "nbformat": 4,
 "nbformat_minor": 5
}
