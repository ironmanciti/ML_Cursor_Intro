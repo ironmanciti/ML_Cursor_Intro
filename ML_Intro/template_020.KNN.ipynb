{
 "cells": [
  {
   "cell_type": "markdown",
   "id": "c72d3bd6",
   "metadata": {
    "slideshow": {
     "slide_type": "slide"
    }
   },
   "source": [
    "# 020.KNN (K-Nearest Neighbors, 최근접 이웃)"
   ]
  },
  {
   "cell_type": "markdown",
   "id": "2d83a317",
   "metadata": {
    "slideshow": {
     "slide_type": "subslide"
    }
   },
   "source": [
    "### iris dataset\n",
    "\n",
    "iris.feature_names : \n",
    "\n",
    "Sepal Length : 꽃받침 길이  \n",
    "Sepal Width  : 꽃받침 너비   \n",
    "Petal Length  : 꽃잎 길이  \n",
    "Petal Width   :  꽃잎 너비 \n",
    "\n",
    "Species (꽃의 종류) :  setosa / versicolor / virginica 의 3종류로 구분된다.\n",
    "\n",
    "**꽃받침 길이, 너비 두가지 feature 를 가지고 KNN 알고리즘을 이용하여 꽃의 종류 분류**"
   ]
  },
  {
   "cell_type": "markdown",
   "id": "e47ba08b",
   "metadata": {
    "slideshow": {
     "slide_type": "subslide"
    }
   },
   "source": [
    "**neighbors.KNeighborsClassifier(n_neighbors, weights=weights)**\n",
    "\n",
    "- weights :  \n",
    "\n",
    "    - uniform : uniform weights. 모든 neighbor 의 가중치를 동일하게 취급  \n",
    "    - distance : neighbor 의 거리에 반비례하여 가중치 조정"
   ]
  },
  {
   "cell_type": "code",
   "execution_count": null,
   "id": "18ed167b",
   "metadata": {},
   "outputs": [],
   "source": [
    "# 필요한 라이브러리 import\n",
    "# 한글 폰트 설정\n",
    "# 폰트 설정 확인"
   ]
  },
  {
   "cell_type": "code",
   "execution_count": null,
   "id": "ae016f7b",
   "metadata": {},
   "outputs": [],
   "source": [
    "# iris 데이터셋 로드 및 기본 정보 확인"
   ]
  },
  {
   "cell_type": "code",
   "execution_count": null,
   "id": "853ca503",
   "metadata": {},
   "outputs": [],
   "source": [
    "# 꽃받침 길이, 너비 두가지 feature 선택 (2D 시각화를 위해)"
   ]
  },
  {
   "cell_type": "code",
   "execution_count": null,
   "id": "c2710fa5",
   "metadata": {},
   "outputs": [],
   "source": [
    "# 훈련 데이터와 테스트 데이터 분할"
   ]
  },
  {
   "cell_type": "markdown",
   "id": "880481e9",
   "metadata": {
    "slideshow": {
     "slide_type": "slide"
    }
   },
   "source": [
    "### KNN 모델 생성 및 훈련"
   ]
  },
  {
   "cell_type": "code",
   "execution_count": null,
   "id": "4b3bd1df",
   "metadata": {},
   "outputs": [],
   "source": [
    "# KNN 분류기 생성 (k=15, 균등 가중치)"
   ]
  },
  {
   "cell_type": "code",
   "execution_count": null,
   "id": "a6debe52",
   "metadata": {},
   "outputs": [],
   "source": [
    "# 테스트 데이터에 대한 예측 수행"
   ]
  },
  {
   "cell_type": "code",
   "execution_count": null,
   "id": "70234206",
   "metadata": {},
   "outputs": [],
   "source": [
    "# 혼동 행렬 계산"
   ]
  },
  {
   "cell_type": "markdown",
   "id": "cfb63c96",
   "metadata": {
    "slideshow": {
     "slide_type": "subslide"
    }
   },
   "source": [
    "### 모델 성능 평가"
   ]
  },
  {
   "cell_type": "code",
   "execution_count": null,
   "id": "4aa432df",
   "metadata": {},
   "outputs": [],
   "source": [
    "# 정확도 계산"
   ]
  },
  {
   "cell_type": "markdown",
   "id": "eeaf0342",
   "metadata": {
    "slideshow": {
     "slide_type": "fragment"
    }
   },
   "source": [
    "### 결정 경계 시각화"
   ]
  },
  {
   "cell_type": "code",
   "execution_count": null,
   "id": "5f93e5d7",
   "metadata": {},
   "outputs": [],
   "source": [
    "# 결정 경계 시각화 함수\n",
    "def plot_decision_boundary(X, y, classifier, title):\n",
    "    # 색상 맵 설정\n",
    "    # 그리드 생성\n",
    "    # 그리드 포인트에 대한 예측\n",
    "    # 그래프 그리기\n",
    "# 결정 경계 시각화"
   ]
  },
  {
   "cell_type": "code",
   "execution_count": null,
   "id": "a30b4cc5",
   "metadata": {},
   "outputs": [],
   "source": []
  },
  {
   "cell_type": "code",
   "execution_count": null,
   "id": "b581e4e4",
   "metadata": {},
   "outputs": [],
   "source": []
  }
 ],
 "metadata": {
  "kernelspec": {
   "display_name": "Python 3 (ipykernel)",
   "language": "python",
   "name": "python3"
  },
  "language_info": {
   "codemirror_mode": {
    "name": "ipython",
    "version": 3
   },
   "file_extension": ".py",
   "mimetype": "text/x-python",
   "name": "python",
   "nbconvert_exporter": "python",
   "pygments_lexer": "ipython3",
   "version": "3.9.16"
  }
 },
 "nbformat": 4,
 "nbformat_minor": 5
}
